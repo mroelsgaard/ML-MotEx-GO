{
 "cells": [
  {
   "cell_type": "markdown",
   "metadata": {},
   "source": [
    "# ML-MotEx with GO\n",
    "\n",
    "The PDF input for this contains a mixture of tetragonal and octahedral metal centers, but neither works well alone. A smallbox-model with the beta-structure of Gallia works well with a 50%/50% ratio between t- and octahedral coordination, but, the amorphous PDF only extends to ~8 Å. On the other hand, the unit cell extends further.\n",
    "\n",
    "This ipynb generates a structure catalogue by inputting a supercell of the beta-structure and removing gallium-centers at random. Dangling oxygens are also removed. All structures in the catalogue is then fit against the experimental data (from my PhD work; reach out for details), and the residual is used to train a machine learning algorithm. The machine learning algorithm is in step3+4."
   ]
  },
  {
   "cell_type": "code",
   "execution_count": 1,
   "metadata": {},
   "outputs": [],
   "source": [
    "import numpy as np\n",
    "import matplotlib.pyplot as plt\n",
    "import time, random\n",
    "from multiprocessing import Pool\n",
    "from functools import partial\n",
    "\n",
    "\n",
    "random.seed(14)\n",
    "np.random.seed(14)"
   ]
  },
  {
   "cell_type": "markdown",
   "metadata": {},
   "source": [
    "### functions"
   ]
  },
  {
   "cell_type": "code",
   "execution_count": 2,
   "metadata": {},
   "outputs": [],
   "source": [
    "# import the fitting function with a generalized way to fit the structure\n",
    "# fit_structure.py should be edited to the structure input\n",
    "from fit_structure import fitting\n",
    "from structure_catalogue import structure_catalogue_maker"
   ]
  },
  {
   "cell_type": "code",
   "execution_count": 3,
   "metadata": {},
   "outputs": [],
   "source": [
    "def fitting_multiprocess(structure_catalogue, \n",
    "                         SaveName, \n",
    "                         cores=24 # Ncores to use for fitting.\n",
    "                        ) -> np.column_stack:\n",
    "    \"\"\"\n",
    "     This function runs the refinement of all the structures in the structure catalogue using multiprocessing\n",
    "    \"\"\"\n",
    "    start_time = time.time()\n",
    "    values = []\n",
    "    # Set up multiprocessing refinement\n",
    "    fitindex = range(len(structure_catalogue))\n",
    "    p = Pool(processes=cores)\n",
    "    plot = 0\n",
    "    func = partial(fitting, starting_model, structure_catalogue, plot, \n",
    "                   # non-globals:\n",
    "                   threshold=threshold, NumMetals=NumMetals, Experimental_Data=Experimental_Data,\n",
    "                  )\n",
    "    results = p.map(func, fitindex)\n",
    "    p.close()\n",
    "    p.join()\n",
    "    \n",
    "    # Start refinement and append results to lists\n",
    "    for i in fitindex:\n",
    "        if i % 100 == 0:\n",
    "            print (\"I have now fitted: \", str(i) + \" structures out of \" + str(len(structure_catalogue)))\n",
    "        rw = results[i]\n",
    "        values.append(i)\n",
    "        values.append(rw)\n",
    "    values = np.reshape(values,(int(len(values)/2) , 2))\n",
    "    # Save results in format that is suitable for Machine Learning\n",
    "    print (\"Best fit\")\n",
    "    print (values[np.argmin(values[:,1])])\n",
    "    print(f\"Total execution time: {time.time()-start_time}s\")\n",
    "    Result = np.column_stack([values, np.asarray(structure_catalogue)[values[:,0].astype(int)]])\n",
    "    np.savetxt(SaveName, Result)\n",
    "    return Result\n",
    "\n"
   ]
  },
  {
   "cell_type": "markdown",
   "metadata": {},
   "source": [
    "# Step 1: Produce a catalogue of structure motifs\n",
    "### First define the starting model, how large the structure catalogue has to be, number of iterable atoms and threshold between iterable atoms and non-iterable atoms."
   ]
  },
  {
   "cell_type": "code",
   "execution_count": 4,
   "metadata": {},
   "outputs": [],
   "source": [
    "starting_model = \"Structure_Models/beta-Ga2O3_CollCode83645_1x2x2.xyz\" # Name of the starting model file\n",
    "Number_of_structures = 10000 # Number of structures made to the structure catalogue\n",
    "NumMetals = 40 # Number of atoms that should be permuted in the starting model\n",
    "threshold = 2.5 # Thredshold for Ga - O bond\n"
   ]
  },
  {
   "cell_type": "markdown",
   "metadata": {},
   "source": [
    "### Produce a catalogue of structure motifs"
   ]
  },
  {
   "cell_type": "code",
   "execution_count": 5,
   "metadata": {},
   "outputs": [
    {
     "name": "stdout",
     "output_type": "stream",
     "text": [
      "Starting to make a structure catalogue with: 10000 structure from the starting model.\n",
      "The structure will have between 0 and 64 atoms\n",
      "Permutations Succeeded\n"
     ]
    }
   ],
   "source": [
    "structure_catalogue = structure_catalogue_maker(Number_of_structures, \n",
    "                                                Number_of_atoms=NumMetals, \n",
    "                                                lower_atom_number=0, \n",
    "                                                higher_atom_number=NumMetals)\n",
    "#print (\"We show the first 5 structures in the catalogue:\")\n",
    "#structure_catalogue[:5]\n"
   ]
  },
  {
   "cell_type": "markdown",
   "metadata": {},
   "source": [
    "# Step 2: Fit all of the structures from the catalogue of structure motifs to the dataset\n",
    "### First define the experimental data path and the path you want the structure catalogue with fits to be saved"
   ]
  },
  {
   "cell_type": "code",
   "execution_count": 6,
   "metadata": {},
   "outputs": [],
   "source": [
    "Experimental_Data = \"Experimental_Data/amorphousFit_Gobs.dat\" # Name of the experimental file\n",
    "saveFits = \"Training_Data/structure_go.txt\" # Name of the saved fits file\n"
   ]
  },
  {
   "cell_type": "markdown",
   "metadata": {},
   "source": [
    "### Produce organized structure catalogue with Rwp values"
   ]
  },
  {
   "cell_type": "code",
   "execution_count": 7,
   "metadata": {},
   "outputs": [
    {
     "name": "stdout",
     "output_type": "stream",
     "text": [
      "I have now fitted:  0 structures out of 10000\n",
      "I have now fitted:  100 structures out of 10000\n",
      "I have now fitted:  200 structures out of 10000\n",
      "I have now fitted:  300 structures out of 10000\n",
      "I have now fitted:  400 structures out of 10000\n",
      "I have now fitted:  500 structures out of 10000\n",
      "I have now fitted:  600 structures out of 10000\n",
      "I have now fitted:  700 structures out of 10000\n",
      "I have now fitted:  800 structures out of 10000\n",
      "I have now fitted:  900 structures out of 10000\n",
      "I have now fitted:  1000 structures out of 10000\n",
      "I have now fitted:  1100 structures out of 10000\n",
      "I have now fitted:  1200 structures out of 10000\n",
      "I have now fitted:  1300 structures out of 10000\n",
      "I have now fitted:  1400 structures out of 10000\n",
      "I have now fitted:  1500 structures out of 10000\n",
      "I have now fitted:  1600 structures out of 10000\n",
      "I have now fitted:  1700 structures out of 10000\n",
      "I have now fitted:  1800 structures out of 10000\n",
      "I have now fitted:  1900 structures out of 10000\n",
      "I have now fitted:  2000 structures out of 10000\n",
      "I have now fitted:  2100 structures out of 10000\n",
      "I have now fitted:  2200 structures out of 10000\n",
      "I have now fitted:  2300 structures out of 10000\n",
      "I have now fitted:  2400 structures out of 10000\n",
      "I have now fitted:  2500 structures out of 10000\n",
      "I have now fitted:  2600 structures out of 10000\n",
      "I have now fitted:  2700 structures out of 10000\n",
      "I have now fitted:  2800 structures out of 10000\n",
      "I have now fitted:  2900 structures out of 10000\n",
      "I have now fitted:  3000 structures out of 10000\n",
      "I have now fitted:  3100 structures out of 10000\n",
      "I have now fitted:  3200 structures out of 10000\n",
      "I have now fitted:  3300 structures out of 10000\n",
      "I have now fitted:  3400 structures out of 10000\n",
      "I have now fitted:  3500 structures out of 10000\n",
      "I have now fitted:  3600 structures out of 10000\n",
      "I have now fitted:  3700 structures out of 10000\n",
      "I have now fitted:  3800 structures out of 10000\n",
      "I have now fitted:  3900 structures out of 10000\n",
      "I have now fitted:  4000 structures out of 10000\n",
      "I have now fitted:  4100 structures out of 10000\n",
      "I have now fitted:  4200 structures out of 10000\n",
      "I have now fitted:  4300 structures out of 10000\n",
      "I have now fitted:  4400 structures out of 10000\n",
      "I have now fitted:  4500 structures out of 10000\n",
      "I have now fitted:  4600 structures out of 10000\n",
      "I have now fitted:  4700 structures out of 10000\n",
      "I have now fitted:  4800 structures out of 10000\n",
      "I have now fitted:  4900 structures out of 10000\n",
      "I have now fitted:  5000 structures out of 10000\n",
      "I have now fitted:  5100 structures out of 10000\n",
      "I have now fitted:  5200 structures out of 10000\n",
      "I have now fitted:  5300 structures out of 10000\n",
      "I have now fitted:  5400 structures out of 10000\n",
      "I have now fitted:  5500 structures out of 10000\n",
      "I have now fitted:  5600 structures out of 10000\n",
      "I have now fitted:  5700 structures out of 10000\n",
      "I have now fitted:  5800 structures out of 10000\n",
      "I have now fitted:  5900 structures out of 10000\n",
      "I have now fitted:  6000 structures out of 10000\n",
      "I have now fitted:  6100 structures out of 10000\n",
      "I have now fitted:  6200 structures out of 10000\n",
      "I have now fitted:  6300 structures out of 10000\n",
      "I have now fitted:  6400 structures out of 10000\n",
      "I have now fitted:  6500 structures out of 10000\n",
      "I have now fitted:  6600 structures out of 10000\n",
      "I have now fitted:  6700 structures out of 10000\n",
      "I have now fitted:  6800 structures out of 10000\n",
      "I have now fitted:  6900 structures out of 10000\n",
      "I have now fitted:  7000 structures out of 10000\n",
      "I have now fitted:  7100 structures out of 10000\n",
      "I have now fitted:  7200 structures out of 10000\n",
      "I have now fitted:  7300 structures out of 10000\n",
      "I have now fitted:  7400 structures out of 10000\n",
      "I have now fitted:  7500 structures out of 10000\n",
      "I have now fitted:  7600 structures out of 10000\n",
      "I have now fitted:  7700 structures out of 10000\n",
      "I have now fitted:  7800 structures out of 10000\n",
      "I have now fitted:  7900 structures out of 10000\n",
      "I have now fitted:  8000 structures out of 10000\n",
      "I have now fitted:  8100 structures out of 10000\n",
      "I have now fitted:  8200 structures out of 10000\n",
      "I have now fitted:  8300 structures out of 10000\n",
      "I have now fitted:  8400 structures out of 10000\n",
      "I have now fitted:  8500 structures out of 10000\n",
      "I have now fitted:  8600 structures out of 10000\n",
      "I have now fitted:  8700 structures out of 10000\n",
      "I have now fitted:  8800 structures out of 10000\n",
      "I have now fitted:  8900 structures out of 10000\n",
      "I have now fitted:  9000 structures out of 10000\n",
      "I have now fitted:  9100 structures out of 10000\n",
      "I have now fitted:  9200 structures out of 10000\n",
      "I have now fitted:  9300 structures out of 10000\n",
      "I have now fitted:  9400 structures out of 10000\n",
      "I have now fitted:  9500 structures out of 10000\n",
      "I have now fitted:  9600 structures out of 10000\n",
      "I have now fitted:  9700 structures out of 10000\n",
      "I have now fitted:  9800 structures out of 10000\n",
      "I have now fitted:  9900 structures out of 10000\n",
      "Best fit\n",
      "[2.38700000e+03 4.67365929e-01]\n",
      "Total execution time: 75.47260975837708s\n",
      "The best fitting structure is:\n"
     ]
    },
    {
     "data": {
      "text/plain": [
       "array([2.38700000e+03, 4.67365929e-01, 2.60000000e+01, 0.00000000e+00,\n",
       "       1.00000000e+00, 0.00000000e+00, 0.00000000e+00, 1.00000000e+00,\n",
       "       0.00000000e+00, 1.00000000e+00, 0.00000000e+00, 1.00000000e+00,\n",
       "       1.00000000e+00, 0.00000000e+00, 1.00000000e+00, 1.00000000e+00,\n",
       "       0.00000000e+00, 1.00000000e+00, 0.00000000e+00, 1.00000000e+00,\n",
       "       1.00000000e+00, 1.00000000e+00, 1.00000000e+00, 0.00000000e+00,\n",
       "       0.00000000e+00, 0.00000000e+00, 0.00000000e+00, 1.00000000e+00,\n",
       "       0.00000000e+00, 1.00000000e+00, 0.00000000e+00, 1.00000000e+00,\n",
       "       0.00000000e+00, 1.00000000e+00, 0.00000000e+00, 1.00000000e+00,\n",
       "       0.00000000e+00, 0.00000000e+00, 0.00000000e+00, 1.00000000e+00,\n",
       "       0.00000000e+00, 0.00000000e+00, 0.00000000e+00, 0.00000000e+00,\n",
       "       0.00000000e+00, 1.00000000e+00, 1.00000000e+00, 0.00000000e+00,\n",
       "       1.00000000e+00, 0.00000000e+00, 1.00000000e+00, 1.00000000e+00,\n",
       "       1.00000000e+00, 1.00000000e+00, 0.00000000e+00, 0.00000000e+00,\n",
       "       1.00000000e+00, 0.00000000e+00, 0.00000000e+00, 0.00000000e+00,\n",
       "       0.00000000e+00, 0.00000000e+00, 0.00000000e+00, 0.00000000e+00,\n",
       "       0.00000000e+00, 0.00000000e+00, 0.00000000e+00])"
      ]
     },
     "execution_count": 7,
     "metadata": {},
     "output_type": "execute_result"
    }
   ],
   "source": [
    "Result = fitting_multiprocess(structure_catalogue, SaveName=saveFits, cores=None)\n",
    "print (\"The best fitting structure is:\")\n",
    "Result[np.argmin(Result[:,1])]\n"
   ]
  },
  {
   "cell_type": "markdown",
   "metadata": {},
   "source": [
    "\n",
    "# Extra\n",
    "\n",
    "\n",
    "\n",
    "\n",
    "### We can see that the best fitting structure has 21 atoms as also shown above. This is not the alpha-Keggin cluster which has 12 atoms. However, we can fit this structure to the experimental dataset:"
   ]
  },
  {
   "cell_type": "code",
   "execution_count": 8,
   "metadata": {},
   "outputs": [
    {
     "name": "stdout",
     "output_type": "stream",
     "text": [
      "FIT RESULTS\n",
      "Some quantities invalid due to missing profile uncertainty\n",
      "Overall (Chi2 and Reduced Chi2 invalid)\n",
      "------------------------------------------------------------------------------\n",
      "Residual       69.54428520\n",
      "Contributions  69.25915596\n",
      "Restraints     0.28512924\n",
      "Chi2           69.25915596\n",
      "Reduced Chi2   0.07695462\n",
      "Rw             0.46736590\n",
      "\n",
      "Variables (Uncertainties invalid)\n",
      "------------------------------------------------------------------------------\n",
      "mc          6.22309876e-01 +/- 3.95342164e-02\n",
      "zoomscale1  9.89843516e-01 +/- 9.85374237e-04\n",
      "zoomscale2  1.01027958e+00 +/- 9.92112728e-04\n",
      "zoomscale3  9.89572836e-01 +/- 9.89045429e-04\n",
      "\n",
      "Fixed Variables\n",
      "------------------------------------------------------------------------------\n",
      "Ga_Biso_cluster1  4.00000000e-01\n",
      "O_Biso_cluster1   4.00000000e-01\n",
      "delta2_cluster    0.00000000e+00\n",
      "\n",
      "Variable Correlations greater than 25% (Correlations invalid)\n",
      "------------------------------------------------------------------------------\n",
      "No correlations greater than 25%\n",
      "\n"
     ]
    },
    {
     "data": {
      "image/png": "[encoded data removed]",
      "text/plain": [
       "<Figure size 432x288 with 1 Axes>"
      ]
     },
     "metadata": {
      "needs_background": "light"
     },
     "output_type": "display_data"
    }
   ],
   "source": [
    "fitting(starting_model, structure_catalogue, plot=True, index=np.argmin(Result[:,1]), \n",
    "        threshold=threshold, \n",
    "        NumMetals=NumMetals, \n",
    "        Experimental_Data=Experimental_Data);"
   ]
  },
  {
   "cell_type": "markdown",
   "metadata": {},
   "source": [
    "# Visualizing No. Atoms vs. Rwp"
   ]
  },
  {
   "cell_type": "code",
   "execution_count": 9,
   "metadata": {},
   "outputs": [
    {
     "data": {
      "image/png": "[encoded data removed]",
      "text/plain": [
       "<Figure size 432x288 with 1 Axes>"
      ]
     },
     "metadata": {
      "needs_background": "light"
     },
     "output_type": "display_data"
    }
   ],
   "source": [
    "fig, ax = plt.subplots()\n",
    "\n",
    "ax.plot(Result[:,2], Result[:,1], \"o\")\n",
    "ax.set(xlabel=\"Number of metal centers\",\n",
    "       ylabel=\"Rwp value\"\n",
    "      )\n",
    "\n",
    "ax.tick_params(direction='in')\n"
   ]
  },
  {
   "cell_type": "code",
   "execution_count": 12,
   "metadata": {},
   "outputs": [
    {
     "name": "stdout",
     "output_type": "stream",
     "text": [
      "Starting to make a structure catalogue with: 10000 structure from the starting model.\n",
      "The structure will have between 0 and 80 atoms\n",
      "Permutations Succeeded\n",
      "I have now fitted:  0 structures out of 10000\n",
      "I have now fitted:  100 structures out of 10000\n",
      "I have now fitted:  200 structures out of 10000\n",
      "I have now fitted:  300 structures out of 10000\n",
      "I have now fitted:  400 structures out of 10000\n",
      "I have now fitted:  500 structures out of 10000\n",
      "I have now fitted:  600 structures out of 10000\n",
      "I have now fitted:  700 structures out of 10000\n",
      "I have now fitted:  800 structures out of 10000\n",
      "I have now fitted:  900 structures out of 10000\n",
      "I have now fitted:  1000 structures out of 10000\n",
      "I have now fitted:  1100 structures out of 10000\n",
      "I have now fitted:  1200 structures out of 10000\n",
      "I have now fitted:  1300 structures out of 10000\n",
      "I have now fitted:  1400 structures out of 10000\n",
      "I have now fitted:  1500 structures out of 10000\n",
      "I have now fitted:  1600 structures out of 10000\n",
      "I have now fitted:  1700 structures out of 10000\n",
      "I have now fitted:  1800 structures out of 10000\n",
      "I have now fitted:  1900 structures out of 10000\n",
      "I have now fitted:  2000 structures out of 10000\n",
      "I have now fitted:  2100 structures out of 10000\n",
      "I have now fitted:  2200 structures out of 10000\n",
      "I have now fitted:  2300 structures out of 10000\n",
      "I have now fitted:  2400 structures out of 10000\n",
      "I have now fitted:  2500 structures out of 10000\n",
      "I have now fitted:  2600 structures out of 10000\n",
      "I have now fitted:  2700 structures out of 10000\n",
      "I have now fitted:  2800 structures out of 10000\n",
      "I have now fitted:  2900 structures out of 10000\n",
      "I have now fitted:  3000 structures out of 10000\n",
      "I have now fitted:  3100 structures out of 10000\n",
      "I have now fitted:  3200 structures out of 10000\n",
      "I have now fitted:  3300 structures out of 10000\n",
      "I have now fitted:  3400 structures out of 10000\n",
      "I have now fitted:  3500 structures out of 10000\n",
      "I have now fitted:  3600 structures out of 10000\n",
      "I have now fitted:  3700 structures out of 10000\n",
      "I have now fitted:  3800 structures out of 10000\n",
      "I have now fitted:  3900 structures out of 10000\n",
      "I have now fitted:  4000 structures out of 10000\n",
      "I have now fitted:  4100 structures out of 10000\n",
      "I have now fitted:  4200 structures out of 10000\n",
      "I have now fitted:  4300 structures out of 10000\n",
      "I have now fitted:  4400 structures out of 10000\n",
      "I have now fitted:  4500 structures out of 10000\n",
      "I have now fitted:  4600 structures out of 10000\n",
      "I have now fitted:  4700 structures out of 10000\n",
      "I have now fitted:  4800 structures out of 10000\n",
      "I have now fitted:  4900 structures out of 10000\n",
      "I have now fitted:  5000 structures out of 10000\n",
      "I have now fitted:  5100 structures out of 10000\n",
      "I have now fitted:  5200 structures out of 10000\n",
      "I have now fitted:  5300 structures out of 10000\n",
      "I have now fitted:  5400 structures out of 10000\n",
      "I have now fitted:  5500 structures out of 10000\n",
      "I have now fitted:  5600 structures out of 10000\n",
      "I have now fitted:  5700 structures out of 10000\n",
      "I have now fitted:  5800 structures out of 10000\n",
      "I have now fitted:  5900 structures out of 10000\n",
      "I have now fitted:  6000 structures out of 10000\n",
      "I have now fitted:  6100 structures out of 10000\n",
      "I have now fitted:  6200 structures out of 10000\n",
      "I have now fitted:  6300 structures out of 10000\n",
      "I have now fitted:  6400 structures out of 10000\n",
      "I have now fitted:  6500 structures out of 10000\n",
      "I have now fitted:  6600 structures out of 10000\n",
      "I have now fitted:  6700 structures out of 10000\n",
      "I have now fitted:  6800 structures out of 10000\n",
      "I have now fitted:  6900 structures out of 10000\n",
      "I have now fitted:  7000 structures out of 10000\n",
      "I have now fitted:  7100 structures out of 10000\n",
      "I have now fitted:  7200 structures out of 10000\n",
      "I have now fitted:  7300 structures out of 10000\n",
      "I have now fitted:  7400 structures out of 10000\n",
      "I have now fitted:  7500 structures out of 10000\n",
      "I have now fitted:  7600 structures out of 10000\n",
      "I have now fitted:  7700 structures out of 10000\n",
      "I have now fitted:  7800 structures out of 10000\n",
      "I have now fitted:  7900 structures out of 10000\n",
      "I have now fitted:  8000 structures out of 10000\n",
      "I have now fitted:  8100 structures out of 10000\n",
      "I have now fitted:  8200 structures out of 10000\n",
      "I have now fitted:  8300 structures out of 10000\n",
      "I have now fitted:  8400 structures out of 10000\n",
      "I have now fitted:  8500 structures out of 10000\n",
      "I have now fitted:  8600 structures out of 10000\n",
      "I have now fitted:  8700 structures out of 10000\n",
      "I have now fitted:  8800 structures out of 10000\n",
      "I have now fitted:  8900 structures out of 10000\n",
      "I have now fitted:  9000 structures out of 10000\n",
      "I have now fitted:  9100 structures out of 10000\n",
      "I have now fitted:  9200 structures out of 10000\n",
      "I have now fitted:  9300 structures out of 10000\n",
      "I have now fitted:  9400 structures out of 10000\n",
      "I have now fitted:  9500 structures out of 10000\n",
      "I have now fitted:  9600 structures out of 10000\n",
      "I have now fitted:  9700 structures out of 10000\n",
      "I have now fitted:  9800 structures out of 10000\n",
      "I have now fitted:  9900 structures out of 10000\n",
      "Best fit\n",
      "[2.91600000e+03 5.06353133e-01]\n",
      "Total execution time: 170.91548132896423s\n",
      "The best fitting structure is:\n",
      "FIT RESULTS\n",
      "Some quantities invalid due to missing profile uncertainty\n",
      "Overall (Chi2 and Reduced Chi2 invalid)\n",
      "------------------------------------------------------------------------------\n",
      "Residual       81.62890264\n",
      "Contributions  81.29617374\n",
      "Restraints     0.33272890\n",
      "Chi2           81.29617374\n",
      "Reduced Chi2   0.09032908\n",
      "Rw             0.50635311\n",
      "\n",
      "Variables (Uncertainties invalid)\n",
      "------------------------------------------------------------------------------\n",
      "mc          3.86376832e-01 +/- 2.51668834e-02\n",
      "zoomscale1  9.89650620e-01 +/- 9.75956145e-04\n",
      "zoomscale2  1.01008014e+00 +/- 9.91524540e-04\n",
      "zoomscale3  9.89548080e-01 +/- 9.86440739e-04\n",
      "\n",
      "Fixed Variables\n",
      "------------------------------------------------------------------------------\n",
      "Ga_Biso_cluster1  4.00000000e-01\n",
      "O_Biso_cluster1   4.00000000e-01\n",
      "delta2_cluster    0.00000000e+00\n",
      "\n",
      "Variable Correlations greater than 25% (Correlations invalid)\n",
      "------------------------------------------------------------------------------\n",
      "No correlations greater than 25%\n",
      "\n"
     ]
    },
    {
     "data": {
      "image/png": "[encoded data removed]",
      "text/plain": [
       "<Figure size 432x288 with 1 Axes>"
      ]
     },
     "metadata": {
      "needs_background": "light"
     },
     "output_type": "display_data"
    },
    {
     "data": {
      "image/png": "[encoded data removed]",
      "text/plain": [
       "<Figure size 432x288 with 1 Axes>"
      ]
     },
     "metadata": {
      "needs_background": "light"
     },
     "output_type": "display_data"
    }
   ],
   "source": [
    "starting_model = \"Structure_Models/beta-Ga2O3_CollCode83645_2x2x2.xyz\" # Name of the starting model file\n",
    "Number_of_structures = 10000 # Number of structures made to the structure catalogue\n",
    "NumMetals = 80 # Number of atoms that should be permuted in the starting model\n",
    "threshold = 2.5 # Thredshold for Ga - O bond\n",
    "structure_catalogue = structure_catalogue_maker(Number_of_structures, \n",
    "                                                Number_of_atoms=NumMetals, \n",
    "                                                lower_atom_number=0, \n",
    "                                                higher_atom_number=NumMetals)\n",
    "#print (\"We show the first 5 structures in the catalogue:\")\n",
    "#structure_catalogue[:5]\n",
    "\n",
    "Experimental_Data = \"Experimental_Data/amorphousFit_Gobs.dat\" # Name of the experimental file\n",
    "saveFits = \"Training_Data/structure_go.txt\" # Name of the saved fits file\n",
    "Result = fitting_multiprocess(structure_catalogue, SaveName=saveFits, cores=None)\n",
    "print (\"The best fitting structure is:\")\n",
    "Result[np.argmin(Result[:,1])]\n",
    "fitting(starting_model, structure_catalogue, plot=True, index=np.argmin(Result[:,1]), \n",
    "        threshold=threshold, \n",
    "        NumMetals=NumMetals, \n",
    "        Experimental_Data=Experimental_Data);\n",
    "\n",
    "fig, ax = plt.subplots()\n",
    "\n",
    "ax.plot(Result[:,2], Result[:,1], \"o\")\n",
    "ax.set(xlabel=\"Number of metal centers\",\n",
    "       ylabel=\"Rwp value\"\n",
    "      )\n",
    "\n",
    "ax.tick_params(direction='in')\n"
   ]
  },
  {
   "cell_type": "code",
   "execution_count": null,
   "metadata": {},
   "outputs": [],
   "source": []
  }
 ],
 "metadata": {
  "kernelspec": {
   "display_name": "Diffpy (Python 3.7)",
   "language": "python",
   "name": "diffpy"
  },
  "language_info": {
   "codemirror_mode": {
    "name": "ipython",
    "version": 3
   },
   "file_extension": ".py",
   "mimetype": "text/x-python",
   "name": "python",
   "nbconvert_exporter": "python",
   "pygments_lexer": "ipython3",
   "version": "3.7.13"
  }
 },
 "nbformat": 4,
 "nbformat_minor": 4
}
