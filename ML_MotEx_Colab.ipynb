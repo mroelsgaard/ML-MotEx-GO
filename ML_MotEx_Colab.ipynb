{
<<<<<<< HEAD
 "cells": [
  {
   "cell_type": "markdown",
   "metadata": {
    "colab_type": "text",
    "id": "view-in-github"
   },
   "source": [
    "<a href=\"https://colab.research.google.com/github/AndySAnker/ML-MotEx/blob/main/ML_MotEx_Colab.ipynb\" target=\"_parent\"><img src=\"https://colab.research.google.com/assets/colab-badge.svg\" alt=\"Open In Colab\"/></a>"
   ]
=======
  "nbformat": 4,
  "nbformat_minor": 0,
  "metadata": {
    "colab": {
      "name": "ML-MotEx-Colab.ipynb",
      "provenance": [],
      "collapsed_sections": [],
      "authorship_tag": "ABX9TyN7tJIIQ6t2CnTHS+FlT3Et",
      "include_colab_link": true
    },
    "kernelspec": {
      "name": "python3",
      "display_name": "Python 3"
    },
    "language_info": {
      "name": "python"
    }
>>>>>>> 8569abb01d6e5a2f2fe92acbfaa44a1fac87a152
  },
  {
   "cell_type": "markdown",
   "metadata": {
    "id": "inAkwrhMtEfJ"
   },
   "source": [
    "<h1><center> Welcome to ML-MotEx </center></h1>\n",
    "\n",
    "**Github:** https://github.com/AndySAnker/ML-MotEx\n",
    "\n",
    "**Paper:** Extracting Structural Motifs from Pair Distribution Function Data of Nanostructures using Explainable Machine Learning\n",
    "\n",
    "**Questions:** andy@chem.ku.dk\n",
    "\n",
    "Use this script to use ML-MotEx to extract a structural motif from a dataset. This script does only handle Pair Distribution Function (PDF) data but ML-MotEx can in principle handle any data.\n",
    "\n",
    "If you have already fitted the dataset with multiple structures or you have have another type of data than PDF please go on to step 3 halfway through the script.\n",
    "\n",
    "# First install python packages"
   ]
  },
  {
   "cell_type": "code",
   "execution_count": 4,
   "metadata": {
    "id": "_w_GJCPBzOoA"
   },
   "outputs": [],
   "source": [
    "%%capture\n",
    "!pip install ase shap xgboost bayesian-optimization\n",
    "!git clone https://github.com/AndySAnker/ML-MotEx.git"
   ]
  },
  {
   "cell_type": "markdown",
   "metadata": {
    "id": "YF57OI7rzSId"
   },
   "source": [
    "# First download Anaconda"
   ]
  },
  {
   "cell_type": "code",
   "execution_count": null,
   "metadata": {
    "id": "s_QNc_Z7tdaU"
   },
   "outputs": [],
   "source": [
    "%%capture\n",
    "%%bash \n",
    "MINICONDA_INSTALLER_SCRIPT=Miniconda3-latest-Linux-x86_64.sh\n",
    "MINICONDA_PREFIX=/usr/local\n",
    "wget https://repo.continuum.io/miniconda/$MINICONDA_INSTALLER_SCRIPT\n",
    "chmod +x $MINICONDA_INSTALLER_SCRIPT\n",
    "./$MINICONDA_INSTALLER_SCRIPT -b -f -p $MINICONDA_PREFIX\n"
   ]
  },
  {
   "cell_type": "markdown",
   "metadata": {
    "id": "B0yRGbLKtfSl"
   },
   "source": [
    "# Download DiffPy-CMI"
   ]
  },
  {
   "cell_type": "code",
   "execution_count": null,
   "metadata": {
    "id": "XuVXdl3ktfdC"
   },
   "outputs": [],
   "source": [
    "%%capture\n",
    "!conda create -n diffpy -c defaults -c diffpy python=3.7 diffpy-cmi pandas --yes\n",
    "!cp -r /usr/local/envs/diffpy/lib/python3.7/site-packages/diffpy.srfit-3.0.0-py3.7.egg/diffpy/* /usr/local/envs/diffpy/lib/python3.7/site-packages/diffpy/\n",
    "!cp -r /usr/local/envs/diffpy/lib/python3.7/site-packages/diffpy.structure-3.0.1-py3.7.egg/diffpy/* /usr/local/envs/diffpy/lib/python3.7/site-packages/diffpy/\n",
    "!cp -r /usr/local/envs/diffpy/lib/python3.7/site-packages/diffpy.utils-3.0.0-py3.7.egg/diffpy/* /usr/local/envs/diffpy/lib/python3.7/site-packages/diffpy/\n",
    "\n",
    "import sys\n",
    "sys.path.insert(1, \"/usr/local/envs/diffpy/lib/python3.7/site-packages\")"
   ]
  },
  {
   "cell_type": "markdown",
   "metadata": {
    "id": "MBZxEr5ctgFI"
   },
   "source": [
    "# import modules, set seed parameters and import functions"
   ]
  },
  {
   "cell_type": "code",
   "execution_count": null,
   "metadata": {
    "id": "-NU9B66atC-R"
   },
   "outputs": [],
   "source": [
    "%%capture\n",
    "import numpy as np\n",
    "import matplotlib as mpl\n",
    "import matplotlib.cm\n",
    "import matplotlib.pyplot as plt\n",
    "import time, random, shap\n",
    "from scipy.optimize.minpack import leastsq\n",
    "from diffpy.Structure import Structure, Atom\n",
    "from diffpy.srfit.pdf import PDFContribution, PDFParser, PDFGenerator\n",
    "from diffpy.srfit.fitbase import FitRecipe, FitResults, Profile, FitContribution\n",
    "from diffpy.srreal.pdfcalculator import DebyePDFCalculator\n",
    "from multiprocessing import Pool\n",
    "from functools import partial\n",
    "from ase.io import read\n",
    "from google.colab import output, files\n",
    "import xgboost as xgb\n",
    "from sklearn.model_selection import cross_val_score\n",
    "from sklearn.metrics import mean_squared_error\n",
    "from bayes_opt import BayesianOptimization\n",
    "import pandas as pd\n",
    "\n",
    "random.seed(14)\n",
    "np.random.seed(14)"
   ]
  },
  {
   "cell_type": "code",
   "execution_count": null,
   "metadata": {
    "id": "CIM9y9ECtRdz"
   },
   "outputs": [],
   "source": [
    "def Load_starting_model(starting_model):\n",
    "    \"\"\"This function loads the structure\"\"\"\n",
    "\n",
    "    # Read structure and divide it into two lists: Atoms we want to iterate (W) and atoms we do not iterate (O)\n",
    "    struct=[]\n",
    "    with open(starting_model, 'r') as fi:\n",
    "        for line in fi.readlines():\n",
    "            sep_line=line.strip('{}\\n\\r ').split()\n",
    "            if len(sep_line)==4: #  tillader andre informationer i xyz filen some ikke skal laeses\n",
    "                struct.append(sep_line)\n",
    "    elements=np.array(struct)[:,0]\n",
    "    xyz=(np.array(struct)[:,1:].astype(float))\n",
    "    \n",
    "    return elements, xyz\n",
    "\n",
    "def structure_catalogue_maker(Number_of_structures, Number_of_atoms, lower_atom_number, higher_atom_number):\n",
    "    \"\"\"This function makes a shuffled list containing 'Number_of_structures' number of lists which each is \n",
    "    'Number_of_atoms' long and is randomly distributed with 0's and 1's whereas the minimum number of 1's are \n",
    "    'lower_atom_number' and the maximum number of 1's are 'higher_atom_number'.\"\"\"\n",
    "    \n",
    "    print (\"Starting to make a structure catalogue with: \", str(Number_of_structures) + \" structure from the starting model.\")\n",
    "    print (\"The structure will have between \" + str(lower_atom_number) + \" and \" + str(higher_atom_number) + \" atoms\")\n",
    "    structure_catalogue = []\n",
    "    for i in range(Number_of_structures):\n",
    "        one_count = random.randint(lower_atom_number, higher_atom_number)\n",
    "        zero_count = Number_of_atoms  - one_count\n",
    "        my_list = [0]*zero_count + [1]*one_count\n",
    "        random.shuffle(my_list)\n",
    "        my_list.insert(0, one_count)\n",
    "        structure_catalogue.append(my_list)\n",
    "    print (\"Permutations Succeeded\")\n",
    "    return structure_catalogue\n",
    "    \n",
    "def fitting(structure_catalogue, atom_ph, Qmin, Qmax, Qdamp, rmin, rmax, plot, index):\n",
    "    \"\"\"This function takes in a 'starting_model', and an 'index' from the 'structure_catalogue'. It generates the \n",
    "    corresponding structure and fit it to the 'Experimental_Data'.\"\"\"\n",
    "    \n",
    "    # Read structure and divide it into two lists: Atoms we want to iterate (W) and atoms we do not iterate (O)\n",
    "    stru = read(starting_model)\n",
    "    xyz = stru.get_positions()\n",
    "    xyz_W = xyz[:NumW].copy()\n",
    "    xyz_O = xyz[NumW:len(xyz)].copy()\n",
    "    keep_O = np.zeros(len(xyz_O))\n",
    "    h = 0\n",
    "    # Cycle through W atoms and delete W according to index 0's from permutation\n",
    "    permutations = np.asarray(structure_catalogue)[:,1:]\n",
    "    for j in range(len(xyz_W)):\n",
    "        if permutations[index][j] == 0:\n",
    "            xyz_W = np.delete(xyz_W,j - h,0)\n",
    "            h = h+1   \n",
    "    # Cycle through all atoms that is not iteratable and test if it is within the threshold distance. Delete atoms with no bonds\n",
    "    for j in range(len(xyz_O)):        \n",
    "        for k in range(len(xyz_W)):\n",
    "            dist = np.linalg.norm(xyz_W[k] - xyz_O[j])\n",
    "            if dist < threshold:    \n",
    "                keep_O[j] = 1\n",
    "                break\n",
    "    h = 0            \n",
    "    for j in range(len(xyz_O)):\n",
    "        if keep_O[j] == 0:\n",
    "            xyz_O = np.delete(xyz_O,j - h, 0)\n",
    "            h += 1\n",
    "            \n",
    "    # Create structure for iterable (W) and non-iterable (O) atoms and combine them\n",
    "    W_cluster = Structure([Atom('W', xi) for xi in xyz_W])\n",
    "    O_cluster = Structure([Atom('O', xi) for xi in xyz_O])\n",
    "    cluster = W_cluster + O_cluster\n",
    "    \n",
    "    # Make a standard cluster refinement using Diffpy-CMI\n",
    "    # Import the data and make it a PDFprofile. Define the range of the data that will be used in the fit.\n",
    "    pdfprofile = Profile()\n",
    "    pdfparser = PDFParser()\n",
    "    pdfparser.parseFile(Experimental_Data)\n",
    "    pdfprofile.loadParsedData(pdfparser)\n",
    "    pdfprofile.setCalculationRange(xmin = rmin, xmax = rmax)\n",
    "\n",
    "    # Setup the PDFgenerator that calculates the PDF from the structure\n",
    "    pdfgenerator_cluster = PDFGenerator(\"G\")\n",
    "    # Add the profile and both generators to the PDFcontribution\n",
    "    pdfcontribution = FitContribution(\"pdf\")\n",
    "    pdfcontribution.setProfile(pdfprofile, xname=\"r\") \n",
    "    pdfcontribution.addProfileGenerator(pdfgenerator_cluster)\n",
    "    \n",
    "    pdfgenerator_cluster.setQmin(Qmin)\n",
    "    pdfgenerator_cluster.setQmax(Qmax)\n",
    "    pdfgenerator_cluster._calc.evaluatortype = 'OPTIMIZED'\n",
    "    pdfgenerator_cluster.setStructure(cluster, periodic = False)\n",
    "\n",
    "    # Use scaling factors proportional to molar content\n",
    "    pdfcontribution.setEquation('mc*G')\n",
    "\n",
    "    # Define the recipe to do the fit and add it to the PDFcontribution\n",
    "    recipe = FitRecipe()\n",
    "    recipe.addContribution(pdfcontribution)\n",
    "\n",
    "    # Avoid too much output during fitting \n",
    "    recipe.clearFitHooks()\n",
    "\n",
    "    # Add the scale factor.\n",
    "    recipe.addVar(pdfcontribution.mc, 1.0, tag = \"scale\")\n",
    "    \n",
    "    # Add the instrumental parameters to the two generators\n",
    "    pdfgenerator_cluster.qdamp.value = Qdamp\n",
    "    \n",
    "    # Add the delta2 parameters, and make sure it cannot take unphysical values\n",
    "    recipe.addVar(pdfgenerator_cluster.delta2, 0, name = \"delta2_cluster\", tag = \"delta2\")\n",
    "\n",
    "    # Add ADP and \"cell\" for the cluster\n",
    "    phase_cluster = pdfgenerator_cluster.phase\n",
    "    atoms = phase_cluster.getScatterers()\n",
    "    lat = phase_cluster.getLattice()\n",
    "\n",
    "    recipe.newVar(\"zoomscale1\", 1.0, tag = \"lat\")\n",
    "    recipe.newVar(\"zoomscale2\", 1.0, tag = \"lat\")\n",
    "    recipe.newVar(\"zoomscale3\", 1.0, tag = \"lat\")\n",
    "    recipe.constrain(lat.a, 'zoomscale1')\n",
    "    recipe.constrain(lat.b, 'zoomscale2')\n",
    "    recipe.constrain(lat.c, 'zoomscale3')\n",
    "\n",
    "    W_cluster = recipe.newVar(\"W_Biso_cluster1\", 0.4, tag = 'adp_w')\n",
    "    O_cluster = recipe.newVar(\"O_Biso_cluster1\", 0.4, tag = 'adp_o')\n",
    "\n",
    "    for atom in atoms:\n",
    "      if atom.element.title() == atom_ph:\n",
    "            recipe.constrain(atom.Biso, W_cluster)\n",
    "      elif atom.element.title() == \"O\":\n",
    "            recipe.constrain(atom.Biso, O_cluster)\n",
    "\n",
    "    recipe.restrain(\"zoomscale1\", lb = 0.99, ub = 1.01, sig = 0.001)\n",
    "    recipe.restrain(\"zoomscale2\", lb = 0.99, ub = 1.01, sig = 0.001)\n",
    "    recipe.restrain(\"zoomscale3\", lb = 0.99, ub = 1.01, sig = 0.001)\n",
    "    \n",
    "    #free parameters are set\n",
    "    recipe.fix('all')\n",
    "    recipe.free(\"scale\", \"lat\")\n",
    "\n",
    "    # Turn off printout of iteration number.\n",
    "    #recipe.clearFitHooks()\n",
    "\n",
    "    # We can now execute the fit using scipy's least square optimizer.\n",
    "    leastsq(recipe.residual, recipe.getValues())\n",
    "    \n",
    "    # We calculate the goodness-of-fit, Rwp\n",
    "    g = recipe.pdf.profile.y\n",
    "    gcalc = recipe.pdf.evaluate()\n",
    "    rfactor1 = np.sqrt(sum((g - gcalc)**2) / sum((g)**2))\n",
    "    \n",
    "    # if plot == 1 it will also plot the fit\n",
    "    if plot == 1:\n",
    "        print (\"FIT RESULTS\\n\")\n",
    "        res1 = FitResults(recipe)\n",
    "        print (res1)\n",
    "\n",
    "        # Plot the observed and refined PDF.\n",
    "        # Get the experimental data from the recipe\n",
    "        r = recipe.pdf.profile.x\n",
    "        gobs = recipe.pdf.profile.y\n",
    "\n",
    "        # Get the calculated PDF and compute the difference between the calculated and measured PDF\n",
    "        gcalc = recipe.pdf.evaluate()\n",
    "        baseline = 1.1 * gobs.min()\n",
    "        gdiff = gobs - gcalc\n",
    "\n",
    "        # Plot!\n",
    "        plt.figure()\n",
    "        plt.plot(r, gobs, 'bo', label=\"G(r) data\")\n",
    "        plt.plot(r, gcalc, 'r-', label=\"G(r) fit\")\n",
    "        plt.plot(r, gdiff + baseline, 'g-', label=\"G(r) diff\")\n",
    "        plt.plot(r, np.zeros_like(r) + baseline, 'k:')\n",
    "        plt.xlabel(r\"$r (\\AA)$\")\n",
    "        plt.ylabel(r\"$G (\\AA^{-2})$\")\n",
    "        plt.legend()\n",
    "\n",
    "        plt.show()\n",
    "    return 1 - rfactor1\n",
    "\n",
    "def fitting_multiprocess(structure_catalogue, atom_ph, Qmin, Qmax, Qdamp, rmin, rmax, SaveName, cores=1):\n",
    "    \"\"\"This function runs the refinement of all the structures in the structure catalogue using multiprocessing\"\"\"\n",
    "    start_time = time.time()\n",
    "    values = []\n",
    "    # Set up multiprocessing refinement\n",
    "    fitindex = range(len(structure_catalogue))\n",
    "    p = Pool(processes=cores)\n",
    "    plot = 0\n",
    "    func = partial(fitting, structure_catalogue, atom_ph, Qmin, Qmax, Qdamp, rmin, rmax, plot)\n",
    "    results = p.map(func, fitindex)\n",
    "    p.close()\n",
    "    p.join()\n",
    "    \n",
    "    # Start refinement and append results to lists\n",
    "    for i in fitindex:\n",
    "        if i % 100 == 0:\n",
    "            print (\"I have now fitted: \", str(i) + \" structures out of \" + str(len(structure_catalogue)))\n",
    "        rw = results[i]\n",
    "        values.append(i)\n",
    "        values.append(rw)\n",
    "    values = np.reshape(values,(int(len(values)/2) , 2))\n",
    "    \n",
    "    # Save results in format that is suitable for Machine Learning\n",
    "    print (\"Best fit\")\n",
    "    print (values[np.argmin(values[:,1])])\n",
    "    print(\"Total execution time: %.3fs\" % (time.time()-start_time))\n",
    "    Result = np.column_stack([values, np.asarray(structure_catalogue)[values[:,0].astype(int)]])\n",
    "    np.savetxt(SaveName, Result)\n",
    "    return Result\n",
    "\n",
    "def Import_Dataset(FileName):\n",
    "    \"\"\"This function loads a catalogue of structures with their corresponding Rwp values and split the dataset \n",
    "    into a training set and validation set with features and labels.\"\"\"\n",
    "    # load data\n",
    "    dataset = np.loadtxt(FileName, delimiter=\" \", skiprows=0)\n",
    "    dataset_original = dataset.copy()\n",
    "\n",
    "    # Split into training and validation set\n",
    "    dataset_train = dataset[:int(len(dataset)*0.8)]\n",
    "    dataset_val = dataset[int(len(dataset)*0.8):len(dataset)]\n",
    "    \n",
    "    # split data into features (X) and labels (y)\n",
    "    X_train = dataset_train[:,2:len(dataset)+1]\n",
    "    y_train = dataset_train[:,1]\n",
    "    X_val = dataset_val[:,2:len(dataset)+1]\n",
    "    y_val = dataset_val[:,1]\n",
    "    \n",
    "    print(\"Number of Training Data:\", len(y_train))\n",
    "    print(\"Number of Validation Data:\", len(y_val))\n",
    "        \n",
    "    return X_train, y_train, X_val, y_val\n",
    "    \n",
    "def Validate_XGBoost(model, X_val, y_val):\n",
    "    \"\"\"Function to validate the performance of the XGBoost algorithm on a validation set\"\"\"\n",
    "    print (\"Giving an estimate of the accuracy of the model\")\n",
    "    xgb_val = xgb.DMatrix(X_val, y_val)\n",
    "    y_pred_val = model.predict(xgb_val)\n",
    "    rmse = mean_squared_error(y_val, y_pred_val)\n",
    "    print(\"RMSE: %f\" % (rmse))\n",
    "    return rmse\n",
    "\n",
    "def DecisionTree_CrossValidation(learning_rate, max_depth, data, targets):\n",
    "    \"\"\"Decision Tree cross validation.\n",
    "       Fits a Decision Tree with the given paramaters to the target \n",
    "       given data, calculated a CV accuracy score and returns the mean.\n",
    "       The goal is to find combinations of max_depth, min_samples_leaf \n",
    "       that maximize the accuracy\n",
    "    \"\"\"\n",
    "    \n",
    "    estimator = xgb.XGBRegressor(random_state=0, \n",
    "                                       learning_rate = learning_rate,\n",
    "                                       max_depth=max_depth,\n",
    "                                       objective='reg:squarederror') \n",
    "    \n",
    "    cval = cross_val_score(estimator, data, targets, cv=3)\n",
    "    return cval.mean()\n",
    "\n",
    "def optimize_DecisionTree(data, targets, pars, n_iter=5):\n",
    "    \"\"\"Apply Bayesian Optimization to Decision Tree parameters.\"\"\"\n",
    "    \n",
    "    def crossval_wrapper(learning_rate, max_depth):\n",
    "        \"\"\"Wrapper of Decision Tree cross validation. \n",
    "           Notice how we ensure max_depth, min_samples_leaf \n",
    "           are casted to integer before we pass them along.\n",
    "        \"\"\"\n",
    "        accuracy_mean = DecisionTree_CrossValidation(learning_rate = learning_rate,\n",
    "                                       max_depth=int(max_depth), \n",
    "                                       data=data, targets=targets)\n",
    "        \n",
    "        return accuracy_mean\n",
    "    \n",
    "    optimizer = BayesianOptimization(f=crossval_wrapper, pbounds=pars, \n",
    "                                     random_state=0, verbose=2)\n",
    "    optimizer.maximize(init_points=4, n_iter=n_iter)\n",
    "\n",
    "    return optimizer\n",
    "\n",
    "def train_w_earlyStop(X_train, y_train, learning_rate, max_depth, n_estimators, n_jobs, gamma, min_child_weight, base_score, seed, early_stop, xgb_model=None):\n",
    "    \"\"\"Train a XGBoost model using the given parameters. The training will run until the early stop criteria is\n",
    "    fulfilled or 5000 epochs are run. The loss curve and values is saved.\"\"\"\n",
    "    start_time = time.time()\n",
    "\n",
    "    xgb_params = {}\n",
    "    xgb_params['learning_rate'] = learning_rate\n",
    "    xgb_params['objective'] = 'reg:squarederror' # Default\n",
    "    xgb_params['max_depth'] = max_depth\n",
    "    xgb_params['n_estimators'] = n_estimators\n",
    "    xgb_params['n_jobs'] = n_jobs\n",
    "    xgb_params['gamma'] = gamma\n",
    "    xgb_params['min_child_weight'] = min_child_weight\n",
    "    xgb_params['eval_metric'] = ['mae']\n",
    "    xgb_params['base_score'] = base_score\n",
    "    xgb_params['seed'] = seed\n",
    "    xgb_params['verbosity'] = 0\n",
    "    epochs = 5000\n",
    "\n",
    "    store = {}\n",
    "    xgb_train = xgb.DMatrix(X_train, y_train)\n",
    "    xgb_val = xgb.DMatrix(X_val, y_val)\n",
    "    evallist = [(xgb_train,'train'),(xgb_val, 'val')]\n",
    "    model = None\n",
    "\n",
    "    model = xgb.train(xgb_params, xgb_train, epochs, evallist, evals_result=store, verbose_eval=0, early_stopping_rounds=early_stop, xgb_model=model)\n",
    "    print (\"Training using the best parameters\")\n",
    "    print(\"Total execution time: %.3f s\" % (time.time()-start_time))\n",
    "    print (\"Training succeeded\")\n",
    "    \n",
    "    # Save Loss\n",
    "    loss_results = pd.DataFrame(store)\n",
    "    loss_results.to_csv(\"LossCurve.csv\")\n",
    "\n",
    "    # Plot Loss\n",
    "    test_score = store['val']['mae']\n",
    "    train_score = store['train']['mae']\n",
    "    plt.plot(range(len(test_score)), test_score, \"c\", label=\"Val\")\n",
    "    plt.plot(range(len(train_score)), train_score, \"orange\", label=\"Train\")\n",
    "    plt.xlabel(\"Epochs\")\n",
    "    plt.ylabel(\"MAE Loss\")\n",
    "    plt.legend()\n",
    "    plt.savefig(\"LossCurve.png\")\n",
    "    return model, store\n",
    "\n",
    "def shap_essential_figure(model, X_train, saveResults):\n",
    "    \"\"\"Function that takes a XGBoost model, a training set and calculates SHAP values of each features in the \n",
    "    training set. Afterwards, it saves a SHAP summary plot\"\"\"\n",
    "    # Calculate SHAP values\n",
    "    explainer = shap.TreeExplainer(model)\n",
    "    shap_values = explainer.shap_values(X_train) \n",
    "    # Make SHAP summary plot\n",
    "    shap.summary_plot(shap_values[:,1:], X_train[:,1:], feature_names=[\"Atom #\"+str(i) for i in range(1,X_train.shape[1])], color_bar_label=\"Feature Value (Low: Atom Removed, High: Atom Not Removed)\", show=False, max_display=X_train.shape[1]) # to plot these explanations\n",
    "    plt.savefig(saveResults + \"SHAP_values.png\", dpi=600, format = \"png\", bbox_inches='tight')\n",
    "    return explainer, shap_values\n",
    "\n",
    "def calculate_atomContributionValue(shap_values, X_train, saveResults):\n",
    "    \"\"\"Calculate atom contribution value list from the result array\"\"\"\n",
    "    \n",
    "    # Define AtomContributionValues vector\n",
    "    AtomContributionValues = []\n",
    "    for i in range(X_train.shape[1]):\n",
    "        # We are not interested in the number of atoms in this regi\n",
    "        if i == 0:\n",
    "            AtomContributionValues.append(0)\n",
    "        else:\n",
    "            Keep_atoms = np.mean((shap_values[np.where(X_train[:,i] == 1),i]))\n",
    "            Remove_atoms = np.mean((shap_values[np.where(X_train[:,i] == 0),i]))\n",
    "            AtomContributionValues.append(0.5*Keep_atoms - 0.5*Remove_atoms)\n",
    "    \n",
    "    # Normalise the AtomContributionValues\n",
    "    amin, amax = min(AtomContributionValues), max(AtomContributionValues)\n",
    "    AtomContributionValues = (AtomContributionValues - amin) / (amax - amin)\n",
    "    AtomContributionValues_ph = AtomContributionValues.copy()\n",
    "    AtomContributionValues_ph.sort()\n",
    "\n",
    "    # Define colormap of viridis.reverse\n",
    "    norm = mpl.colors.Normalize(vmin=AtomContributionValues_ph[round((len(AtomContributionValues))/10)], vmax=AtomContributionValues_ph[-round((len(AtomContributionValues))/10)])\n",
    "    cmap = matplotlib.cm.cividis_r\n",
    "    m = mpl.cm.ScalarMappable(norm=norm, cmap=cmap)\n",
    "    \n",
    "    # Save results to file\n",
    "    f = open(saveResults+\"AtomContributionValues.txt\", \"w\")\n",
    "    f.write(\"\\nAtom contribution are calculated to: \\n\")\n",
    "    for i in range(len(AtomContributionValues)):\n",
    "        f.write(\"Atom # \"+ str(i+1) + \":  \"+ str(AtomContributionValues[i]) + \"  Colorcode:  \"+ mpl.colors.rgb2hex(m.to_rgba(AtomContributionValues[i]))+\"\\n\")\n",
    "    \n",
    "    return m, AtomContributionValues\n",
    "\n",
    "def Make_CrystalMakerFile(elements, xyz, AtomContributionValues, m, saveResults, threshold):\n",
    "    # Read bonds and colors of all atoms\n",
    "    bonding = []\n",
    "    with open(\"ML-MotEx/util/Bonding.txt\", 'r') as fi:\n",
    "        for line in fi.readlines():\n",
    "            sep_line=line.strip('{}\\n\\r ').split()\n",
    "            bonding.append(sep_line)\n",
    "    bonding = np.array(bonding)\n",
    "    \n",
    "    # Output a crystalmaker file to visualize the results\n",
    "    CrystalMaker = open(saveResults+'_CrystalMaker.cmtx', 'w')\n",
    "\n",
    "    CrystalMaker.write(\"MOLE  CrystalMaker molecule format\\n\")\n",
    "    CrystalMaker.write(\"TITL  Molecule\\n\\n\")\n",
    "    CrystalMaker.write(\"! Model type\\n\")\n",
    "    CrystalMaker.write(\"MODL  1\\n\\n\")\n",
    "\n",
    "    CrystalMaker.write(\"! Depth fading settings\\n\")\n",
    "    CrystalMaker.write(\"DCUE  1.000000 0.212899 0.704686\\n\\n\")\n",
    "\n",
    "    CrystalMaker.write(\"! Colour definitions:\\n\")\n",
    "    CrystalMaker.write(\"TYPE\\n\")\n",
    "\n",
    "    # Assign colors to all the atoms\n",
    "    for iter, element in enumerate(elements):\n",
    "        if iter < NumW:\n",
    "            #CrystalMaker.write(element + str(iter+1) + \" 1.32 \")\n",
    "            CrystalMaker.write(element + str(iter+1) + \" \" + bonding[np.where(bonding == element)[0][0], 1] + \" \")\n",
    "            rgb1 = m.to_rgba(AtomContributionValues[iter])[:-1][0]\n",
    "            rgb2 = m.to_rgba(AtomContributionValues[iter])[:-1][1]\n",
    "            rgb3 = m.to_rgba(AtomContributionValues[iter])[:-1][2]\n",
    "            CrystalMaker.write(str(rgb1) + \" \" + str(rgb2) + \" \" + str(rgb3))\n",
    "            CrystalMaker.write(\"\\n\")\n",
    "        else:\n",
    "            #CrystalMaker.write(element + str(iter+1) + \" 0.66 \")\n",
    "            CrystalMaker.write(element + str(iter+1) + \" \" + bonding[np.where(bonding == element)[0][0], 1] + \" \")\n",
    "            rgb1 = int(float(bonding[np.where(bonding == element)[0][0], 2])*255) #mpl.colors.to_rgb(\"#FF0000\")[0]\n",
    "            rgb2 = int(float(bonding[np.where(bonding == element)[0][0], 3])*255) #mpl.colors.to_rgb(\"#FF0000\")[1]\n",
    "            rgb3 = int(float(bonding[np.where(bonding == element)[0][0], 4])*255) #mpl.colors.to_rgb(\"#FF0000\")[2]\n",
    "            CrystalMaker.write(str(rgb1) + \" \" + str(rgb2) + \" \" + str(rgb3))\n",
    "            CrystalMaker.write(\"\\n\")\n",
    "    \n",
    "    CrystalMaker.write(\"\\n\")\n",
    "    CrystalMaker.write(\"! Atoms list\\n\")\n",
    "    CrystalMaker.write(\"! Bond Specifications\\n\")\n",
    "    \n",
    "    # Assign bonds between the atoms\n",
    "    for iter, element in enumerate(elements):\n",
    "        if iter < NumW:\n",
    "            NI_elements = np.delete(np.unique(elements), np.where(np.unique(elements) == element)[0])\n",
    "            for NI_element in NI_elements:\n",
    "                CrystalMaker.write(\"BMAX \" + element + \" \" + str(NI_element) + \"  \" + str(threshold))\n",
    "                CrystalMaker.write(\"\\n\")\n",
    "    \n",
    "    CrystalMaker.write(\"\\n\")\n",
    "    CrystalMaker.write(\"! Atoms list\\n\")\n",
    "    CrystalMaker.write(\"ATOM\\n\")\n",
    "    \n",
    "    # Assign coordinates to the atoms\n",
    "    for iter, element in enumerate(elements):\n",
    "        if iter < NumW:\n",
    "            CrystalMaker.write(element + \" \" + element + str(iter+1) + \" \" + str(xyz[iter][0]) + \" \" + str(xyz[iter][1]) + \" \" + str(xyz[iter][2]) + \"\\n\")\n",
    "        else:\n",
    "            CrystalMaker.write(element + \" \" + element + str(iter+1) + \" \" + str(xyz[iter][0]) + \" \" + str(xyz[iter][1]) + \" \" + str(xyz[iter][2]) + \"\\n\")\n",
    "\n",
    "    CrystalMaker.close()\n",
    "    \n",
    "    return None\n",
    "\n",
    "def Make_VestaFile(elements, xyz, AtomContributionValues, m, saveResults, threshold):\n",
    "    # Read bonds and colors of all atoms\n",
    "    bonding = []\n",
    "    with open(\"ML-MotEx/util/Bonding.txt\", 'r') as fi:\n",
    "        for line in fi.readlines():\n",
    "            sep_line=line.strip('{}\\n\\r ').split()\n",
    "            bonding.append(sep_line)\n",
    "    bonding = np.array(bonding)\n",
    "\n",
    "    # Output a Vesta file to visualize the results\n",
    "    Vesta = open(saveResults+'_Vesta.vesta', 'w')\n",
    "\n",
    "    Vesta.write(\"#VESTA_FORMAT_VERSION 3.5.4\\n\\n\\n\")\n",
    "    Vesta.write(\"MOLECULE\\n\\n\")\n",
    "    Vesta.write(\"Title\\n\")\n",
    "    Vesta.write(\"XYZ file\\n\\n\")\n",
    "\n",
    "    Vesta.write(\"STRUC\\n\")\n",
    "    # Assign coordinates to the atoms\n",
    "    for iter, element in enumerate(elements):\n",
    "        Vesta.write(str(iter+1) + \" \" + element + \" \" + element + str(iter+1) + \" 1.0000 \" + str(xyz[iter][0]) + \" \" + str(xyz[iter][1]) + \" \" + str(xyz[iter][2]) + \"1\" + \" -\" + \"\\n\")\n",
    "        Vesta.write(\"0 0 0 0\\n\")\n",
    "    Vesta.write(\"  0 0 0 0 0 0 0\\n\")\n",
    "\n",
    "    Vesta.write(\"SBOND\\n\")\n",
    "    # Assign bonds between the atoms\n",
    "    unique_elements = np.unique(elements)\n",
    "    for iter, element1 in enumerate(unique_elements):\n",
    "      for iter, element2 in enumerate(unique_elements):\n",
    "        if not element1 == element2:\n",
    "          Vesta.write(str(iter+1) + \" \" + element1 + \" \" + element2 + \" 0.0 \" + str(threshold) + \" 0 1 1 0 1 0.25 2 127 127 127\\n\")\n",
    "          Vesta.write(\"0 0 0 0\\n\")\n",
    "    \n",
    "    Vesta.write(\"SITET\\n\")\n",
    "    # Assign colors to all the atoms\n",
    "    for iter, element in enumerate(elements):\n",
    "        if iter < NumW:\n",
    "            rgb1 = int(m.to_rgba(AtomContributionValues[iter])[:-1][0]*255)\n",
    "            rgb2 = int(m.to_rgba(AtomContributionValues[iter])[:-1][1]*255)\n",
    "            rgb3 = int(m.to_rgba(AtomContributionValues[iter])[:-1][2]*255)\n",
    "            Vesta.write(str(iter+1) + \" \" + element + str(iter+1) + \" \" + bonding[np.where(bonding == element)[0][0], 1] + \" \" + str(rgb1) + \" \" + str(rgb2) + \" \" + str(rgb3) + \" \" + str(rgb1) + \" \" + str(rgb2) + \" \" + str(rgb3) + \" 204 0\\n\")\n",
    "        else:\n",
    "            rgb1 = int(float(bonding[np.where(bonding == element)[0][0], 2])*255)\n",
    "            rgb2 = int(float(bonding[np.where(bonding == element)[0][0], 3])*255)\n",
    "            rgb3 = int(float(bonding[np.where(bonding == element)[0][0], 4])*255)\n",
    "            Vesta.write(str(iter+1) + \" \" + element + str(iter+1) + \" \" + bonding[np.where(bonding == element)[0][0], 1] + \" \" + str(rgb1) + \" \" + str(rgb2) + \" \" + str(rgb3) + \" \" + str(rgb1) + \" \" + str(rgb2) + \" \" + str(rgb3) + \" 204 0\\n\")\n",
    "    Vesta.write(\"0 0 0 0 0 0\\n\")\n",
    "    \n",
    "    Vesta.write(\"ATOMT\\n\")\n",
    "    done_deal_atoms = []\n",
    "    for iter, element in enumerate(elements):\n",
    "      if element not in done_deal_atoms:\n",
    "        rgb1 = int(float(bonding[np.where(bonding == element)[0][0], 2])*255)\n",
    "        rgb2 = int(float(bonding[np.where(bonding == element)[0][0], 3])*255)\n",
    "        rgb3 = int(float(bonding[np.where(bonding == element)[0][0], 4])*255)\n",
    "        Vesta.write(str(iter+1) + \" \" + element + \" \" + bonding[np.where(bonding == element)[0][0], 1] + \" \" + str(rgb1) + \" \" + str(rgb2) + \" \" + str(rgb3) + \" \" + str(rgb1) + \" \" + str(rgb2) + \" \" + str(rgb3) + \" 204\\n\")\n",
    "        done_deal_atoms.append(element)\n",
    "    Vesta.write(\"0 0 0 0 0 0\\n\")\n",
    "\n",
    "    Vesta.close()\n",
    "    \n",
    "    return None\n"
   ]
  },
  {
   "cell_type": "markdown",
   "metadata": {
    "id": "dHuN2OsMtypj"
   },
   "source": [
    "# Step 1: Produce a catalogue of structure motifs\n",
    "### First define the starting model, how large the structure catalogue has to be, number of iterable atoms and threshold between iterable atoms and non-iterable atoms."
   ]
  },
  {
   "cell_type": "code",
   "execution_count": null,
   "metadata": {
    "colab": {
     "base_uri": "https://localhost:8080/",
     "height": 90,
     "resources": {
      "http://localhost:8080/nbextensions/google.colab/files.js": {
       "data": "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",
       "headers": [
        [
         "content-type",
         "application/javascript"
        ]
       ],
       "ok": true,
       "status": 200,
       "status_text": ""
      }
     }
    },
    "id": "5RyeCXx4ty0w",
    "outputId": "c5c4cc0c-51ab-49e9-f952-19d52c8c84bc"
   },
   "outputs": [
    {
<<<<<<< HEAD
     "name": "stdout",
     "output_type": "stream",
     "text": [
      "Upload a XYZ file of your starting model\n"
     ]
=======
      "cell_type": "code",
      "source": [
        "%%capture\n",
        "!pip install ase shap xgboost bayesian-optimization\n",
        "!git clone https://github.com/AndySAnker/ML-MotEx.git"
      ],
      "metadata": {
        "id": "_w_GJCPBzOoA"
      },
      "execution_count": null,
      "outputs": []
    },
    {
      "cell_type": "markdown",
      "source": [
        "# First download Anaconda"
      ],
      "metadata": {
        "id": "YF57OI7rzSId"
      }
>>>>>>> 8569abb01d6e5a2f2fe92acbfaa44a1fac87a152
    },
    {
     "data": {
      "text/html": [
       "\n",
       "     <input type=\"file\" id=\"files-24a4dc2b-bf14-468a-96fc-758d63ba4301\" name=\"files[]\" multiple disabled\n",
       "        style=\"border:none\" />\n",
       "     <output id=\"result-24a4dc2b-bf14-468a-96fc-758d63ba4301\">\n",
       "      Upload widget is only available when the cell has been executed in the\n",
       "      current browser session. Please rerun this cell to enable.\n",
       "      </output>\n",
       "      <script src=\"/nbextensions/google.colab/files.js\"></script> "
      ],
      "text/plain": [
       "<IPython.core.display.HTML object>"
      ]
     },
     "metadata": {},
     "output_type": "display_data"
    },
    {
     "name": "stdout",
     "output_type": "stream",
     "text": [
      "Saving 109725.xyz to 109725.xyz\n"
     ]
    }
   ],
   "source": [
    "print (\"Upload a XYZ file of your starting model\")\n",
    "starting_model = list(files.upload())[0] # Name of the starting model file\n",
    "Number_of_structures = 1000 # Number of structures made to the structure catalogue\n",
    "NumW = 24 # Number of atoms that should be permuted in the starting model\n",
    "threshold = 2.6 # Threshold for W - O bond"
   ]
  },
  {
   "cell_type": "markdown",
   "metadata": {
    "id": "aWo9QoNYt3aM"
   },
   "source": [
    "### Produce a catalogue of structure motifs"
   ]
  },
  {
   "cell_type": "code",
   "execution_count": null,
   "metadata": {
    "colab": {
     "base_uri": "https://localhost:8080/"
    },
    "id": "tCmqJJXit3iA",
    "outputId": "52f2dfde-40d7-4bbf-8aaa-10fe0e728095"
   },
   "outputs": [
    {
     "name": "stdout",
     "output_type": "stream",
     "text": [
      "Starting to make a structure catalogue with:  1000 structure from the starting model.\n",
      "The structure will have between 0 and 24 atoms\n",
      "Permutations Succeeded\n",
      "We show the first 10 structures in the catalogue:\n"
     ]
    },
    {
     "data": {
      "text/plain": [
       "[[3, 0, 0, 0, 0, 0, 0, 0, 0, 1, 0, 0, 0, 0, 1, 0, 0, 0, 0, 0, 0, 0, 0, 1, 0],\n",
       " [20, 1, 1, 1, 1, 1, 1, 1, 1, 0, 1, 1, 1, 1, 1, 0, 0, 0, 1, 1, 1, 1, 1, 1, 1],\n",
       " [18, 1, 1, 0, 0, 1, 1, 0, 1, 1, 1, 1, 1, 1, 1, 0, 1, 1, 1, 0, 0, 1, 1, 1, 1],\n",
       " [0, 0, 0, 0, 0, 0, 0, 0, 0, 0, 0, 0, 0, 0, 0, 0, 0, 0, 0, 0, 0, 0, 0, 0, 0],\n",
       " [14, 1, 0, 1, 0, 1, 1, 1, 0, 0, 0, 1, 1, 0, 1, 1, 0, 1, 0, 1, 0, 1, 0, 1, 1],\n",
       " [8, 0, 0, 1, 0, 0, 0, 0, 1, 0, 1, 1, 0, 0, 1, 0, 1, 1, 0, 0, 0, 0, 1, 0, 0],\n",
       " [6, 0, 1, 0, 1, 0, 0, 1, 0, 1, 0, 0, 0, 0, 0, 0, 0, 0, 0, 0, 0, 0, 0, 1, 1],\n",
       " [15, 1, 1, 1, 1, 1, 0, 1, 1, 0, 1, 1, 1, 1, 0, 1, 1, 1, 0, 0, 0, 0, 0, 0, 1],\n",
       " [14, 1, 0, 0, 1, 1, 1, 1, 1, 1, 1, 1, 1, 1, 0, 0, 0, 1, 1, 0, 1, 0, 0, 0, 0],\n",
       " [3, 0, 1, 0, 0, 0, 0, 0, 0, 0, 0, 0, 0, 1, 0, 0, 0, 0, 1, 0, 0, 0, 0, 0, 0]]"
      ]
     },
     "execution_count": 7,
     "metadata": {},
     "output_type": "execute_result"
    }
   ],
   "source": [
    "structure_catalogue = structure_catalogue_maker(Number_of_structures, Number_of_atoms=NumW, lower_atom_number=0, higher_atom_number=NumW)\n",
    "print (\"We show the first 10 structures in the catalogue:\")\n",
    "structure_catalogue[:10]\n"
   ]
  },
  {
   "cell_type": "markdown",
   "metadata": {
    "id": "BeOR90xmuJBK"
   },
   "source": [
    "# Step 2: Fit all of the structures from the catalogue of structure motifs to the dataset\n",
    "### First define the experimental data path and the path you want the structure catalogue with fits to be saved"
   ]
  },
  {
   "cell_type": "code",
   "execution_count": null,
   "metadata": {
    "colab": {
     "base_uri": "https://localhost:8080/",
     "height": 90,
     "resources": {
      "http://localhost:8080/nbextensions/google.colab/files.js": {
       "data": "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",
       "headers": [
        [
         "content-type",
         "application/javascript"
        ]
       ],
       "ok": true,
       "status": 200,
       "status_text": ""
      }
     }
    },
    "id": "cmeF4HTvuJIc",
    "outputId": "72207252-2d15-4a1a-f323-9c3fb0fdd5f1"
   },
   "outputs": [
    {
<<<<<<< HEAD
     "name": "stdout",
     "output_type": "stream",
     "text": [
      "Upload a PDF file in gr format\n"
     ]
=======
      "cell_type": "code",
      "source": [
        "%%capture\n",
        "import numpy as np\n",
        "import matplotlib as mpl\n",
        "import matplotlib.cm\n",
        "import matplotlib.pyplot as plt\n",
        "import time, random, shap\n",
        "from scipy.optimize.minpack import leastsq\n",
        "from diffpy.Structure import Structure, Atom\n",
        "from diffpy.srfit.pdf import PDFContribution, PDFParser, PDFGenerator\n",
        "from diffpy.srfit.fitbase import FitRecipe, FitResults, Profile, FitContribution\n",
        "from diffpy.srreal.pdfcalculator import DebyePDFCalculator\n",
        "from multiprocessing import Pool\n",
        "from functools import partial\n",
        "from ase.io import read\n",
        "from google.colab import output, files\n",
        "import xgboost as xgb\n",
        "from sklearn.model_selection import cross_val_score\n",
        "from sklearn.metrics import mean_squared_error\n",
        "from bayes_opt import BayesianOptimization\n",
        "import pandas as pd\n",
        "\n",
        "random.seed(14)\n",
        "np.random.seed(14)"
      ],
      "metadata": {
        "id": "-NU9B66atC-R"
      },
      "execution_count": null,
      "outputs": []
    },
    {
      "cell_type": "code",
      "source": [
        "def Load_starting_model(starting_model):\n",
        "    \"\"\"This function loads the structure\"\"\"\n",
        "\n",
        "    # Read structure and divide it into two lists: Atoms we want to iterate (W) and atoms we do not iterate (O)\n",
        "    struct=[]\n",
        "    with open(starting_model, 'r') as fi:\n",
        "        for line in fi.readlines():\n",
        "            sep_line=line.strip('{}\\n\\r ').split()\n",
        "            if len(sep_line)==4: #  tillader andre informationer i xyz filen some ikke skal laeses\n",
        "                struct.append(sep_line)\n",
        "    elements=np.array(struct)[:,0]\n",
        "    xyz=(np.array(struct)[:,1:].astype(float))\n",
        "    \n",
        "    return elements, xyz\n",
        "\n",
        "def structure_catalogue_maker(Number_of_structures, Number_of_atoms, lower_atom_number, higher_atom_number):\n",
        "    \"\"\"This function makes a shuffled list containing 'Number_of_structures' number of lists which each is \n",
        "    'Number_of_atoms' long and is randomly distributed with 0's and 1's whereas the minimum number of 1's are \n",
        "    'lower_atom_number' and the maximum number of 1's are 'higher_atom_number'.\"\"\"\n",
        "    \n",
        "    print (\"Starting to make a structure catalogue with: \", str(Number_of_structures) + \" structure from the starting model.\")\n",
        "    print (\"The structure will have between \" + str(lower_atom_number) + \" and \" + str(higher_atom_number) + \" atoms\")\n",
        "    structure_catalogue = []\n",
        "    for i in range(Number_of_structures):\n",
        "        one_count = random.randint(lower_atom_number, higher_atom_number)\n",
        "        zero_count = Number_of_atoms  - one_count\n",
        "        my_list = [0]*zero_count + [1]*one_count\n",
        "        random.shuffle(my_list)\n",
        "        my_list.insert(0, one_count)\n",
        "        structure_catalogue.append(my_list)\n",
        "    print (\"Permutations Succeeded\")\n",
        "    return structure_catalogue\n",
        "    \n",
        "def fitting(structure_catalogue, atom_ph, Qmin, Qmax, Qdamp, rmin, rmax, plot, index):\n",
        "    \"\"\"This function takes in a 'starting_model', and an 'index' from the 'structure_catalogue'. It generates the \n",
        "    corresponding structure and fit it to the 'Experimental_Data'.\"\"\"\n",
        "    \n",
        "    # Read structure and divide it into two lists: Atoms we want to iterate (W) and atoms we do not iterate (O)\n",
        "    stru = read(starting_model)\n",
        "    xyz = stru.get_positions()\n",
        "    xyz_W = xyz[:NumW].copy()\n",
        "    xyz_O = xyz[NumW:len(xyz)].copy()\n",
        "    keep_O = np.zeros(len(xyz_O))\n",
        "    h = 0\n",
        "    # Cycle through W atoms and delete W according to index 0's from permutation\n",
        "    permutations = np.asarray(structure_catalogue)[:,1:]\n",
        "    for j in range(len(xyz_W)):\n",
        "        if permutations[index][j] == 0:\n",
        "            xyz_W = np.delete(xyz_W,j - h,0)\n",
        "            h = h+1   \n",
        "    # Cycle through all atoms that is not iteratable and test if it is within the threshold distance. Delete atoms with no bonds\n",
        "    for j in range(len(xyz_O)):        \n",
        "        for k in range(len(xyz_W)):\n",
        "            dist = np.linalg.norm(xyz_W[k] - xyz_O[j])\n",
        "            if dist < threshold:    \n",
        "                keep_O[j] = 1\n",
        "                break\n",
        "    h = 0            \n",
        "    for j in range(len(xyz_O)):\n",
        "        if keep_O[j] == 0:\n",
        "            xyz_O = np.delete(xyz_O,j - h, 0)\n",
        "            h += 1\n",
        "            \n",
        "    # Create structure for iterable (W) and non-iterable (O) atoms and combine them\n",
        "    W_cluster = Structure([Atom('W', xi) for xi in xyz_W])\n",
        "    O_cluster = Structure([Atom('O', xi) for xi in xyz_O])\n",
        "    cluster = W_cluster + O_cluster\n",
        "    \n",
        "    # Make a standard cluster refinement using Diffpy-CMI\n",
        "    # Import the data and make it a PDFprofile. Define the range of the data that will be used in the fit.\n",
        "    pdfprofile = Profile()\n",
        "    pdfparser = PDFParser()\n",
        "    pdfparser.parseFile(Experimental_Data)\n",
        "    pdfprofile.loadParsedData(pdfparser)\n",
        "    pdfprofile.setCalculationRange(xmin = rmin, xmax = rmax)\n",
        "\n",
        "    # Setup the PDFgenerator that calculates the PDF from the structure\n",
        "    pdfgenerator_cluster = PDFGenerator(\"G\")\n",
        "    # Add the profile and both generators to the PDFcontribution\n",
        "    pdfcontribution = FitContribution(\"pdf\")\n",
        "    pdfcontribution.setProfile(pdfprofile, xname=\"r\") \n",
        "    pdfcontribution.addProfileGenerator(pdfgenerator_cluster)\n",
        "    \n",
        "    pdfgenerator_cluster.setQmin(Qmin)\n",
        "    pdfgenerator_cluster.setQmax(Qmax)\n",
        "    pdfgenerator_cluster._calc.evaluatortype = 'OPTIMIZED'\n",
        "    pdfgenerator_cluster.setStructure(cluster, periodic = False)\n",
        "\n",
        "    # Use scaling factors proportional to molar content\n",
        "    pdfcontribution.setEquation('mc*G')\n",
        "\n",
        "    # Define the recipe to do the fit and add it to the PDFcontribution\n",
        "    recipe = FitRecipe()\n",
        "    recipe.addContribution(pdfcontribution)\n",
        "\n",
        "    # Avoid too much output during fitting \n",
        "    recipe.clearFitHooks()\n",
        "\n",
        "    # Add the scale factor.\n",
        "    recipe.addVar(pdfcontribution.mc, 1.0, tag = \"scale\")\n",
        "    \n",
        "    # Add the instrumental parameters to the two generators\n",
        "    pdfgenerator_cluster.qdamp.value = Qdamp\n",
        "    \n",
        "    # Add the delta2 parameters, and make sure it cannot take unphysical values\n",
        "    recipe.addVar(pdfgenerator_cluster.delta2, 0, name = \"delta2_cluster\", tag = \"delta2\")\n",
        "\n",
        "    # Add ADP and \"cell\" for the cluster\n",
        "    phase_cluster = pdfgenerator_cluster.phase\n",
        "    atoms = phase_cluster.getScatterers()\n",
        "    lat = phase_cluster.getLattice()\n",
        "\n",
        "    recipe.newVar(\"zoomscale1\", 1.0, tag = \"lat\")\n",
        "    recipe.newVar(\"zoomscale2\", 1.0, tag = \"lat\")\n",
        "    recipe.newVar(\"zoomscale3\", 1.0, tag = \"lat\")\n",
        "    recipe.constrain(lat.a, 'zoomscale1')\n",
        "    recipe.constrain(lat.b, 'zoomscale2')\n",
        "    recipe.constrain(lat.c, 'zoomscale3')\n",
        "\n",
        "    W_cluster = recipe.newVar(\"W_Biso_cluster1\", 0.4, tag = 'adp_w')\n",
        "    O_cluster = recipe.newVar(\"O_Biso_cluster1\", 0.4, tag = 'adp_o')\n",
        "\n",
        "    for atom in atoms:\n",
        "      if atom.element.title() == atom_ph:\n",
        "            recipe.constrain(atom.Biso, W_cluster)\n",
        "      elif atom.element.title() == \"O\":\n",
        "            recipe.constrain(atom.Biso, O_cluster)\n",
        "\n",
        "    recipe.restrain(\"zoomscale1\", lb = 0.99, ub = 1.01, sig = 0.001)\n",
        "    recipe.restrain(\"zoomscale2\", lb = 0.99, ub = 1.01, sig = 0.001)\n",
        "    recipe.restrain(\"zoomscale3\", lb = 0.99, ub = 1.01, sig = 0.001)\n",
        "    \n",
        "    #free parameters are set\n",
        "    recipe.fix('all')\n",
        "    recipe.free(\"scale\", \"lat\")\n",
        "\n",
        "    # Turn off printout of iteration number.\n",
        "    #recipe.clearFitHooks()\n",
        "\n",
        "    # We can now execute the fit using scipy's least square optimizer.\n",
        "    leastsq(recipe.residual, recipe.getValues())\n",
        "    \n",
        "    # We calculate the goodness-of-fit, Rwp\n",
        "    g = recipe.pdf.profile.y\n",
        "    gcalc = recipe.pdf.evaluate()\n",
        "    rfactor1 = np.sqrt(sum((g - gcalc)**2) / sum((g)**2))\n",
        "    \n",
        "    # if plot == 1 it will also plot the fit\n",
        "    if plot == 1:\n",
        "        print (\"FIT RESULTS\\n\")\n",
        "        res1 = FitResults(recipe)\n",
        "        print (res1)\n",
        "\n",
        "        # Plot the observed and refined PDF.\n",
        "        # Get the experimental data from the recipe\n",
        "        r = recipe.pdf.profile.x\n",
        "        gobs = recipe.pdf.profile.y\n",
        "\n",
        "        # Get the calculated PDF and compute the difference between the calculated and measured PDF\n",
        "        gcalc = recipe.pdf.evaluate()\n",
        "        baseline = 1.1 * gobs.min()\n",
        "        gdiff = gobs - gcalc\n",
        "\n",
        "        # Plot!\n",
        "        plt.figure()\n",
        "        plt.plot(r, gobs, 'bo', label=\"G(r) data\")\n",
        "        plt.plot(r, gcalc, 'r-', label=\"G(r) fit\")\n",
        "        plt.plot(r, gdiff + baseline, 'g-', label=\"G(r) diff\")\n",
        "        plt.plot(r, np.zeros_like(r) + baseline, 'k:')\n",
        "        plt.xlabel(r\"$r (\\AA)$\")\n",
        "        plt.ylabel(r\"$G (\\AA^{-2})$\")\n",
        "        plt.legend()\n",
        "\n",
        "        plt.show()\n",
        "    return rfactor1\n",
        "\n",
        "def fitting_multiprocess(structure_catalogue, atom_ph, Qmin, Qmax, Qdamp, rmin, rmax, SaveName, cores=1):\n",
        "    \"\"\"This function runs the refinement of all the structures in the structure catalogue using multiprocessing\"\"\"\n",
        "    start_time = time.time()\n",
        "    values = []\n",
        "    # Set up multiprocessing refinement\n",
        "    fitindex = range(len(structure_catalogue))\n",
        "    p = Pool(processes=cores)\n",
        "    plot = 0\n",
        "    func = partial(fitting, structure_catalogue, atom_ph, Qmin, Qmax, Qdamp, rmin, rmax, plot)\n",
        "    results = p.map(func, fitindex)\n",
        "    p.close()\n",
        "    p.join()\n",
        "    \n",
        "    # Start refinement and append results to lists\n",
        "    for i in fitindex:\n",
        "        if i % 100 == 0:\n",
        "            print (\"I have now fitted: \", str(i) + \" structures out of \" + str(len(structure_catalogue)))\n",
        "        rw = results[i]\n",
        "        values.append(i)\n",
        "        values.append(rw)\n",
        "    values = np.reshape(values,(int(len(values)/2) , 2))\n",
        "    \n",
        "    # Save results in format that is suitable for Machine Learning\n",
        "    print (\"Best fit\")\n",
        "    print (values[np.argmin(values[:,1])])\n",
        "    print(\"Total execution time: %.3fs\" % (time.time()-start_time))\n",
        "    Result = np.column_stack([values, np.asarray(structure_catalogue)[values[:,0].astype(int)]])\n",
        "    np.savetxt(SaveName, Result)\n",
        "    return Result\n",
        "\n",
        "def Import_Dataset(FileName):\n",
        "    \"\"\"This function loads a catalogue of structures with their corresponding Rwp values and split the dataset \n",
        "    into a training set and validation set with features and labels.\"\"\"\n",
        "    # load data\n",
        "    dataset = np.loadtxt(FileName, delimiter=\" \", skiprows=0)\n",
        "    dataset_original = dataset.copy()\n",
        "\n",
        "    # Split into training and validation set\n",
        "    dataset_train = dataset[:int(len(dataset)*0.8)]\n",
        "    dataset_val = dataset[int(len(dataset)*0.8):len(dataset)]\n",
        "    \n",
        "    # split data into features (X) and labels (y)\n",
        "    X_train = dataset_train[:,2:len(dataset)+1]\n",
        "    y_train = dataset_train[:,1]\n",
        "    X_val = dataset_val[:,2:len(dataset)+1]\n",
        "    y_val = dataset_val[:,1]\n",
        "    \n",
        "    print(\"Number of Training Data:\", len(y_train))\n",
        "    print(\"Number of Validation Data:\", len(y_val))\n",
        "        \n",
        "    return X_train, y_train, X_val, y_val\n",
        "    \n",
        "def Validate_XGBoost(model, X_val, y_val):\n",
        "    \"\"\"Function to validate the performance of the XGBoost algorithm on a validation set\"\"\"\n",
        "    print (\"Giving an estimate of the accuracy of the model\")\n",
        "    xgb_val = xgb.DMatrix(X_val, y_val)\n",
        "    y_pred_val = model.predict(xgb_val)\n",
        "    rmse = mean_squared_error(y_val, y_pred_val)\n",
        "    print(\"RMSE: %f\" % (rmse))\n",
        "    return rmse\n",
        "\n",
        "def DecisionTree_CrossValidation(learning_rate, max_depth, data, targets):\n",
        "    \"\"\"Decision Tree cross validation.\n",
        "       Fits a Decision Tree with the given paramaters to the target \n",
        "       given data, calculated a CV accuracy score and returns the mean.\n",
        "       The goal is to find combinations of max_depth, min_samples_leaf \n",
        "       that maximize the accuracy\n",
        "    \"\"\"\n",
        "    \n",
        "    estimator = xgb.XGBRegressor(random_state=0, \n",
        "                                       learning_rate = learning_rate,\n",
        "                                       max_depth=max_depth,\n",
        "                                       objective='reg:squarederror') \n",
        "    \n",
        "    cval = cross_val_score(estimator, data, targets, cv=3)\n",
        "    return cval.mean()\n",
        "\n",
        "def optimize_DecisionTree(data, targets, pars, n_iter=5):\n",
        "    \"\"\"Apply Bayesian Optimization to Decision Tree parameters.\"\"\"\n",
        "    \n",
        "    def crossval_wrapper(learning_rate, max_depth):\n",
        "        \"\"\"Wrapper of Decision Tree cross validation. \n",
        "           Notice how we ensure max_depth, min_samples_leaf \n",
        "           are casted to integer before we pass them along.\n",
        "        \"\"\"\n",
        "        accuracy_mean = DecisionTree_CrossValidation(learning_rate = learning_rate,\n",
        "                                       max_depth=int(max_depth), \n",
        "                                       data=data, targets=targets)\n",
        "        \n",
        "        return accuracy_mean\n",
        "    \n",
        "    optimizer = BayesianOptimization(f=crossval_wrapper, pbounds=pars, \n",
        "                                     random_state=0, verbose=2)\n",
        "    optimizer.maximize(init_points=4, n_iter=n_iter)\n",
        "\n",
        "    return optimizer\n",
        "\n",
        "def train_w_earlyStop(X_train, y_train, learning_rate, max_depth, n_estimators, n_jobs, gamma, min_child_weight, base_score, seed, early_stop, xgb_model=None):\n",
        "    \"\"\"Train a XGBoost model using the given parameters. The training will run until the early stop criteria is\n",
        "    fulfilled or 5000 epochs are run. The loss curve and values is saved.\"\"\"\n",
        "    start_time = time.time()\n",
        "\n",
        "    xgb_params = {}\n",
        "    xgb_params['learning_rate'] = learning_rate\n",
        "    xgb_params['objective'] = 'reg:squarederror' # Default\n",
        "    xgb_params['max_depth'] = max_depth\n",
        "    xgb_params['n_estimators'] = n_estimators\n",
        "    xgb_params['n_jobs'] = n_jobs\n",
        "    xgb_params['gamma'] = gamma\n",
        "    xgb_params['min_child_weight'] = min_child_weight\n",
        "    xgb_params['eval_metric'] = ['mae']\n",
        "    xgb_params['base_score'] = base_score\n",
        "    xgb_params['seed'] = seed\n",
        "    xgb_params['verbosity'] = 0\n",
        "    epochs = 5000\n",
        "\n",
        "    store = {}\n",
        "    xgb_train = xgb.DMatrix(X_train, y_train)\n",
        "    xgb_val = xgb.DMatrix(X_val, y_val)\n",
        "    evallist = [(xgb_train,'train'),(xgb_val, 'val')]\n",
        "    model = None\n",
        "\n",
        "    model = xgb.train(xgb_params, xgb_train, epochs, evallist, evals_result=store, verbose_eval=0, early_stopping_rounds=early_stop, xgb_model=model)\n",
        "    print (\"Training using the best parameters\")\n",
        "    print(\"Total execution time: %.3f s\" % (time.time()-start_time))\n",
        "    print (\"Training succeeded\")\n",
        "    \n",
        "    # Save Loss\n",
        "    loss_results = pd.DataFrame(store)\n",
        "    loss_results.to_csv(\"LossCurve.csv\")\n",
        "\n",
        "    # Plot Loss\n",
        "    test_score = store['val']['mae']\n",
        "    train_score = store['train']['mae']\n",
        "    plt.plot(range(len(test_score)), test_score, \"c\", label=\"Val\")\n",
        "    plt.plot(range(len(train_score)), train_score, \"orange\", label=\"Train\")\n",
        "    plt.xlabel(\"Epochs\")\n",
        "    plt.ylabel(\"MAE Loss\")\n",
        "    plt.legend()\n",
        "    plt.savefig(\"LossCurve.png\")\n",
        "    return model, store\n",
        "\n",
        "def shap_essential_figure(model, X_train, saveResults):\n",
        "    \"\"\"Function that takes a XGBoost model, a training set and calculates SHAP values of each features in the \n",
        "    training set. Afterwards, it saves a SHAP summary plot\"\"\"\n",
        "    # Calculate SHAP values\n",
        "    explainer = shap.TreeExplainer(model)\n",
        "    shap_values = explainer.shap_values(X_train) \n",
        "    # Make SHAP summary plot\n",
        "    shap.summary_plot(shap_values[:,1:], X_train[:,1:], feature_names=[\"Atom #\"+str(i) for i in range(1,X_train.shape[1])], color_bar_label=\"Feature Value (Low: Atom Removed, High: Atom Not Removed)\", show=False, max_display=X_train.shape[1]) # to plot these explanations\n",
        "    plt.savefig(saveResults + \"SHAP_values.png\", dpi=600, format = \"png\", bbox_inches='tight')\n",
        "    return explainer, shap_values\n",
        "\n",
        "def calculate_atomContributionValue(shap_values, X_train, saveResults):\n",
        "    \"\"\"Calculate atom contribution value list from the result array\"\"\"\n",
        "    \n",
        "    # Define AtomContributionValues vector\n",
        "    AtomContributionValues = []\n",
        "    AtomContributionValues_RMS = []\n",
        "    for i in range(X_train.shape[1]):\n",
        "        # We are not interested in the number of atoms in this regi\n",
        "        if i == 0:\n",
        "            continue\n",
        "        else:\n",
        "            Keep_atoms = np.mean((shap_values[np.where(X_train[:,i] == 1),i]))\n",
        "            Keep_atoms_RMS = np.std((shap_values[np.where(X_train[:,i] == 1),i]))\n",
        "            Remove_atoms = np.mean((shap_values[np.where(X_train[:,i] == 0),i]))\n",
        "            Remove_atoms_RMS = np.std((shap_values[np.where(X_train[:,i] == 0),i]))\n",
        "            AtomContributionValues.append(0.5*Keep_atoms - 0.5*Remove_atoms)\n",
        "            AtomContributionValues_RMS.append(np.sqrt(0.5*Keep_atoms_RMS**2 + 0.5*Remove_atoms_RMS**2))\n",
        "\n",
        "    for i in range(len(AtomContributionValues_RMS)):\n",
        "      print (\"Atom\", i+1,\" AtomContributionValue: \", AtomContributionValues[i], \" +/- \", AtomContributionValues_RMS[i], \"Atom\", i+1,\" confidence factor: \", abs(AtomContributionValues[i]/AtomContributionValues_RMS[i]))\n",
        "    print (\"Overall confidence factor: \", np.nanmean(np.abs(np.array(AtomContributionValues)/np.array(AtomContributionValues_RMS))), \" +/- \", np.nanstd(np.abs(np.array(AtomContributionValues)/np.array(AtomContributionValues_RMS))))\n",
        "\n",
        "    # Normalise the AtomContributionValues\n",
        "    amin, amax = min(AtomContributionValues), max(AtomContributionValues)\n",
        "    AtomContributionValues = (AtomContributionValues - amin) / (amax - amin)\n",
        "    AtomContributionValues_ph = AtomContributionValues.copy()\n",
        "    AtomContributionValues_ph.sort()\n",
        "\n",
        "    # Define colormap of viridis.reverse\n",
        "    norm = mpl.colors.Normalize(vmin=AtomContributionValues_ph[round((len(AtomContributionValues))/10)], vmax=AtomContributionValues_ph[-round((len(AtomContributionValues))/10)])\n",
        "    cmap = matplotlib.cm.cividis_r\n",
        "    m = mpl.cm.ScalarMappable(norm=norm, cmap=cmap)\n",
        "    \n",
        "    # Save results to file\n",
        "    f = open(saveResults+\"AtomContributionValues.txt\", \"w\")\n",
        "    f.write(\"\\nAtom contribution are calculated to: \\n\")\n",
        "    for i in range(len(AtomContributionValues)):\n",
        "        f.write(\"Atom # \"+ str(i+1) + \":  \"+ str(AtomContributionValues[i]) + \"  Colorcode:  \"+ mpl.colors.rgb2hex(m.to_rgba(AtomContributionValues[i]))+\"\\n\")\n",
        "    \n",
        "    return m, AtomContributionValues\n",
        "\n",
        "def Make_CrystalMakerFile(elements, xyz, AtomContributionValues, m, saveResults, threshold):\n",
        "    # Read bonds and colors of all atoms\n",
        "    bonding = []\n",
        "    with open(\"ML-MotEx/util/Bonding.txt\", 'r') as fi:\n",
        "        for line in fi.readlines():\n",
        "            sep_line=line.strip('{}\\n\\r ').split()\n",
        "            bonding.append(sep_line)\n",
        "    bonding = np.array(bonding)\n",
        "    \n",
        "    # Output a crystalmaker file to visualize the results\n",
        "    CrystalMaker = open(saveResults+'_CrystalMaker.cmtx', 'w')\n",
        "\n",
        "    CrystalMaker.write(\"MOLE  CrystalMaker molecule format\\n\")\n",
        "    CrystalMaker.write(\"TITL  Molecule\\n\\n\")\n",
        "    CrystalMaker.write(\"! Model type\\n\")\n",
        "    CrystalMaker.write(\"MODL  1\\n\\n\")\n",
        "\n",
        "    CrystalMaker.write(\"! Depth fading settings\\n\")\n",
        "    CrystalMaker.write(\"DCUE  1.000000 0.212899 0.704686\\n\\n\")\n",
        "\n",
        "    CrystalMaker.write(\"! Colour definitions:\\n\")\n",
        "    CrystalMaker.write(\"TYPE\\n\")\n",
        "\n",
        "    # Assign colors to all the atoms\n",
        "    for iter, element in enumerate(elements):\n",
        "        if iter < NumW:\n",
        "            #CrystalMaker.write(element + str(iter+1) + \" 1.32 \")\n",
        "            CrystalMaker.write(element + str(iter+1) + \" \" + bonding[np.where(bonding == element)[0][0], 1] + \" \")\n",
        "            rgb1 = m.to_rgba(AtomContributionValues[iter])[:-1][0]\n",
        "            rgb2 = m.to_rgba(AtomContributionValues[iter])[:-1][1]\n",
        "            rgb3 = m.to_rgba(AtomContributionValues[iter])[:-1][2]\n",
        "            CrystalMaker.write(str(rgb1) + \" \" + str(rgb2) + \" \" + str(rgb3))\n",
        "            CrystalMaker.write(\"\\n\")\n",
        "        else:\n",
        "            #CrystalMaker.write(element + str(iter+1) + \" 0.66 \")\n",
        "            CrystalMaker.write(element + str(iter+1) + \" \" + bonding[np.where(bonding == element)[0][0], 1] + \" \")\n",
        "            rgb1 = int(float(bonding[np.where(bonding == element)[0][0], 2])*255) #mpl.colors.to_rgb(\"#FF0000\")[0]\n",
        "            rgb2 = int(float(bonding[np.where(bonding == element)[0][0], 3])*255) #mpl.colors.to_rgb(\"#FF0000\")[1]\n",
        "            rgb3 = int(float(bonding[np.where(bonding == element)[0][0], 4])*255) #mpl.colors.to_rgb(\"#FF0000\")[2]\n",
        "            CrystalMaker.write(str(rgb1) + \" \" + str(rgb2) + \" \" + str(rgb3))\n",
        "            CrystalMaker.write(\"\\n\")\n",
        "    \n",
        "    CrystalMaker.write(\"\\n\")\n",
        "    CrystalMaker.write(\"! Atoms list\\n\")\n",
        "    CrystalMaker.write(\"! Bond Specifications\\n\")\n",
        "    \n",
        "    # Assign bonds between the atoms\n",
        "    for iter, element in enumerate(elements):\n",
        "        if iter < NumW:\n",
        "            NI_elements = np.delete(np.unique(elements), np.where(np.unique(elements) == element)[0])\n",
        "            for NI_element in NI_elements:\n",
        "                CrystalMaker.write(\"BMAX \" + element + \" \" + str(NI_element) + \"  \" + str(threshold))\n",
        "                CrystalMaker.write(\"\\n\")\n",
        "    \n",
        "    CrystalMaker.write(\"\\n\")\n",
        "    CrystalMaker.write(\"! Atoms list\\n\")\n",
        "    CrystalMaker.write(\"ATOM\\n\")\n",
        "    \n",
        "    # Assign coordinates to the atoms\n",
        "    for iter, element in enumerate(elements):\n",
        "        if iter < NumW:\n",
        "            CrystalMaker.write(element + \" \" + element + str(iter+1) + \" \" + str(xyz[iter][0]) + \" \" + str(xyz[iter][1]) + \" \" + str(xyz[iter][2]) + \"\\n\")\n",
        "        else:\n",
        "            CrystalMaker.write(element + \" \" + element + str(iter+1) + \" \" + str(xyz[iter][0]) + \" \" + str(xyz[iter][1]) + \" \" + str(xyz[iter][2]) + \"\\n\")\n",
        "\n",
        "    CrystalMaker.close()\n",
        "    \n",
        "    return None\n",
        "\n",
        "def Make_VestaFile(elements, xyz, AtomContributionValues, m, saveResults, threshold):\n",
        "    # Read bonds and colors of all atoms\n",
        "    bonding = []\n",
        "    with open(\"ML-MotEx/util/Bonding.txt\", 'r') as fi:\n",
        "        for line in fi.readlines():\n",
        "            sep_line=line.strip('{}\\n\\r ').split()\n",
        "            bonding.append(sep_line)\n",
        "    bonding = np.array(bonding)\n",
        "\n",
        "    # Output a Vesta file to visualize the results\n",
        "    Vesta = open(saveResults+'_Vesta.vesta', 'w')\n",
        "\n",
        "    Vesta.write(\"#VESTA_FORMAT_VERSION 3.5.4\\n\\n\\n\")\n",
        "    Vesta.write(\"MOLECULE\\n\\n\")\n",
        "    Vesta.write(\"Title\\n\")\n",
        "    Vesta.write(\"XYZ file\\n\\n\")\n",
        "\n",
        "    Vesta.write(\"STRUC\\n\")\n",
        "    # Assign coordinates to the atoms\n",
        "    for iter, element in enumerate(elements):\n",
        "        Vesta.write(str(iter+1) + \" \" + element + \" \" + element + str(iter+1) + \" 1.0000 \" + str(xyz[iter][0]) + \" \" + str(xyz[iter][1]) + \" \" + str(xyz[iter][2]) + \"1\" + \" -\" + \"\\n\")\n",
        "        Vesta.write(\"0 0 0 0\\n\")\n",
        "    Vesta.write(\"  0 0 0 0 0 0 0\\n\")\n",
        "\n",
        "    Vesta.write(\"SBOND\\n\")\n",
        "    # Assign bonds between the atoms\n",
        "    unique_elements = np.unique(elements)\n",
        "    for iter, element1 in enumerate(unique_elements):\n",
        "      for iter, element2 in enumerate(unique_elements):\n",
        "        if not element1 == element2:\n",
        "          Vesta.write(str(iter+1) + \" \" + element1 + \" \" + element2 + \" 0.0 \" + str(threshold) + \" 0 1 1 0 1 0.25 2 127 127 127\\n\")\n",
        "          Vesta.write(\"0 0 0 0\\n\")\n",
        "    \n",
        "    Vesta.write(\"SITET\\n\")\n",
        "    # Assign colors to all the atoms\n",
        "    for iter, element in enumerate(elements):\n",
        "        if iter < NumW:\n",
        "            rgb1 = int(m.to_rgba(AtomContributionValues[iter])[:-1][0]*255)\n",
        "            rgb2 = int(m.to_rgba(AtomContributionValues[iter])[:-1][1]*255)\n",
        "            rgb3 = int(m.to_rgba(AtomContributionValues[iter])[:-1][2]*255)\n",
        "            Vesta.write(str(iter+1) + \" \" + element + str(iter+1) + \" \" + bonding[np.where(bonding == element)[0][0], 1] + \" \" + str(rgb1) + \" \" + str(rgb2) + \" \" + str(rgb3) + \" \" + str(rgb1) + \" \" + str(rgb2) + \" \" + str(rgb3) + \" 204 0\\n\")\n",
        "        else:\n",
        "            rgb1 = int(float(bonding[np.where(bonding == element)[0][0], 2])*255)\n",
        "            rgb2 = int(float(bonding[np.where(bonding == element)[0][0], 3])*255)\n",
        "            rgb3 = int(float(bonding[np.where(bonding == element)[0][0], 4])*255)\n",
        "            Vesta.write(str(iter+1) + \" \" + element + str(iter+1) + \" \" + bonding[np.where(bonding == element)[0][0], 1] + \" \" + str(rgb1) + \" \" + str(rgb2) + \" \" + str(rgb3) + \" \" + str(rgb1) + \" \" + str(rgb2) + \" \" + str(rgb3) + \" 204 0\\n\")\n",
        "    Vesta.write(\"0 0 0 0 0 0\\n\")\n",
        "    \n",
        "    Vesta.write(\"ATOMT\\n\")\n",
        "    done_deal_atoms = []\n",
        "    for iter, element in enumerate(elements):\n",
        "      if element not in done_deal_atoms:\n",
        "        rgb1 = int(float(bonding[np.where(bonding == element)[0][0], 2])*255)\n",
        "        rgb2 = int(float(bonding[np.where(bonding == element)[0][0], 3])*255)\n",
        "        rgb3 = int(float(bonding[np.where(bonding == element)[0][0], 4])*255)\n",
        "        Vesta.write(str(iter+1) + \" \" + element + \" \" + bonding[np.where(bonding == element)[0][0], 1] + \" \" + str(rgb1) + \" \" + str(rgb2) + \" \" + str(rgb3) + \" \" + str(rgb1) + \" \" + str(rgb2) + \" \" + str(rgb3) + \" 204\\n\")\n",
        "        done_deal_atoms.append(element)\n",
        "    Vesta.write(\"0 0 0 0 0 0\\n\")\n",
        "\n",
        "    Vesta.close()\n",
        "    \n",
        "    return None\n"
      ],
      "metadata": {
        "id": "CIM9y9ECtRdz"
      },
      "execution_count": null,
      "outputs": []
    },
    {
      "cell_type": "markdown",
      "source": [
        "# Step 1: Produce a catalogue of structure motifs\n",
        "### First define the starting model, how large the structure catalogue has to be, number of iterable atoms and threshold between iterable atoms and non-iterable atoms."
      ],
      "metadata": {
        "id": "dHuN2OsMtypj"
      }
>>>>>>> 8569abb01d6e5a2f2fe92acbfaa44a1fac87a152
    },
    {
     "data": {
      "text/html": [
       "\n",
       "     <input type=\"file\" id=\"files-54876c2e-f160-44d1-8b2f-fcf799e1eb60\" name=\"files[]\" multiple disabled\n",
       "        style=\"border:none\" />\n",
       "     <output id=\"result-54876c2e-f160-44d1-8b2f-fcf799e1eb60\">\n",
       "      Upload widget is only available when the cell has been executed in the\n",
       "      current browser session. Please rerun this cell to enable.\n",
       "      </output>\n",
       "      <script src=\"/nbextensions/google.colab/files.js\"></script> "
      ],
<<<<<<< HEAD
      "text/plain": [
       "<IPython.core.display.HTML object>"
=======
      "metadata": {
        "colab": {
          "base_uri": "https://localhost:8080/",
          "resources": {
            "http://localhost:8080/nbextensions/google.colab/files.js": {
              "data": "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",
              "ok": true,
              "headers": [
                [
                  "content-type",
                  "application/javascript"
                ]
              ],
              "status": 200,
              "status_text": ""
            }
          },
          "height": 92
        },
        "id": "5RyeCXx4ty0w",
        "outputId": "4951fe0d-9098-4ee0-b5ae-2e685bc8eada"
      },
      "execution_count": null,
      "outputs": [
        {
          "output_type": "stream",
          "name": "stdout",
          "text": [
            "Upload a XYZ file of your starting model\n"
          ]
        },
        {
          "output_type": "display_data",
          "data": {
            "text/plain": [
              "<IPython.core.display.HTML object>"
            ],
            "text/html": [
              "\n",
              "     <input type=\"file\" id=\"files-ee4b51de-1cee-4e5e-9d5f-4022cd7186a3\" name=\"files[]\" multiple disabled\n",
              "        style=\"border:none\" />\n",
              "     <output id=\"result-ee4b51de-1cee-4e5e-9d5f-4022cd7186a3\">\n",
              "      Upload widget is only available when the cell has been executed in the\n",
              "      current browser session. Please rerun this cell to enable.\n",
              "      </output>\n",
              "      <script src=\"/nbextensions/google.colab/files.js\"></script> "
            ]
          },
          "metadata": {}
        },
        {
          "output_type": "stream",
          "name": "stdout",
          "text": [
            "Saving 109725.xyz to 109725.xyz\n"
          ]
        }
>>>>>>> 8569abb01d6e5a2f2fe92acbfaa44a1fac87a152
      ]
     },
     "metadata": {},
     "output_type": "display_data"
    },
    {
<<<<<<< HEAD
     "name": "stdout",
     "output_type": "stream",
     "text": [
      "Saving DanMAX_AlphaKeggin.gr to DanMAX_AlphaKeggin.gr\n"
     ]
    }
   ],
   "source": [
    "print (\"Upload a PDF file in gr format\")\n",
    "StemName = list(files.upload())[0][:-3] # Upload PDF from local computer\n",
    "Experimental_Data = StemName + \".gr\" # Name of the experimental file\n",
    "saveFits = StemName + \".txt\" # Name of the saved fits file\n",
    "atom_ph, Qmin, Qmax, Qdamp, rmin, rmax = \"W\", 0.7, 20, 0.05, 1.6, 10\n"
   ]
  },
  {
   "cell_type": "markdown",
   "metadata": {
    "id": "Q2EnAVYRuOdC"
   },
   "source": [
    "### Produce organized structure catalogue with Rwp values"
   ]
  },
  {
   "cell_type": "code",
   "execution_count": null,
   "metadata": {
    "colab": {
     "base_uri": "https://localhost:8080/"
=======
      "cell_type": "markdown",
      "source": [
        "### Produce a catalogue of structure motifs"
      ],
      "metadata": {
        "id": "aWo9QoNYt3aM"
      }
    },
    {
      "cell_type": "code",
      "source": [
        "structure_catalogue = structure_catalogue_maker(Number_of_structures, Number_of_atoms=NumW, lower_atom_number=0, higher_atom_number=NumW)\n",
        "print (\"We show the first 10 structures in the catalogue:\")\n",
        "structure_catalogue[:10]\n"
      ],
      "metadata": {
        "colab": {
          "base_uri": "https://localhost:8080/"
        },
        "id": "tCmqJJXit3iA",
        "outputId": "295e838f-3ba6-429e-8687-80d67005f660"
      },
      "execution_count": null,
      "outputs": [
        {
          "output_type": "stream",
          "name": "stdout",
          "text": [
            "Starting to make a structure catalogue with:  1000 structure from the starting model.\n",
            "The structure will have between 0 and 24 atoms\n",
            "Permutations Succeeded\n",
            "We show the first 10 structures in the catalogue:\n"
          ]
        },
        {
          "output_type": "execute_result",
          "data": {
            "text/plain": [
              "[[24, 1, 1, 1, 1, 1, 1, 1, 1, 1, 1, 1, 1, 1, 1, 1, 1, 1, 1, 1, 1, 1, 1, 1, 1],\n",
              " [22, 0, 1, 1, 1, 1, 1, 1, 1, 1, 1, 1, 1, 1, 0, 1, 1, 1, 1, 1, 1, 1, 1, 1, 1],\n",
              " [3, 0, 0, 1, 0, 0, 0, 0, 0, 0, 0, 0, 0, 0, 0, 0, 0, 0, 1, 0, 0, 0, 0, 1, 0],\n",
              " [19, 1, 0, 1, 1, 0, 1, 1, 1, 1, 1, 1, 0, 1, 1, 1, 1, 1, 0, 1, 1, 0, 1, 1, 1],\n",
              " [15, 0, 1, 1, 1, 0, 0, 1, 0, 1, 1, 0, 1, 1, 1, 0, 0, 1, 1, 0, 1, 1, 1, 1, 0],\n",
              " [7, 0, 1, 1, 0, 1, 0, 0, 0, 0, 0, 0, 0, 0, 0, 1, 0, 0, 0, 0, 1, 0, 0, 1, 1],\n",
              " [22, 1, 1, 1, 1, 1, 1, 1, 1, 1, 0, 1, 0, 1, 1, 1, 1, 1, 1, 1, 1, 1, 1, 1, 1],\n",
              " [1, 0, 0, 0, 0, 0, 0, 0, 0, 0, 0, 0, 0, 0, 0, 0, 0, 0, 0, 0, 0, 0, 1, 0, 0],\n",
              " [13, 1, 1, 0, 1, 1, 1, 0, 0, 1, 0, 0, 1, 1, 0, 1, 0, 0, 1, 1, 0, 0, 1, 1, 0],\n",
              " [6, 0, 0, 0, 0, 0, 0, 0, 0, 0, 1, 0, 1, 0, 0, 1, 0, 1, 0, 0, 0, 0, 0, 1, 1]]"
            ]
          },
          "metadata": {},
          "execution_count": 19
        }
      ]
>>>>>>> 8569abb01d6e5a2f2fe92acbfaa44a1fac87a152
    },
    "id": "L5x9IHiDuOlu",
    "outputId": "0bf0faea-ba1b-4c8d-ee8f-f2ae641377cb"
   },
   "outputs": [
    {
     "name": "stdout",
     "output_type": "stream",
     "text": [
      "I have now fitted:  0 structures out of 1000\n",
      "I have now fitted:  100 structures out of 1000\n",
      "I have now fitted:  200 structures out of 1000\n",
      "I have now fitted:  300 structures out of 1000\n",
      "I have now fitted:  400 structures out of 1000\n",
      "I have now fitted:  500 structures out of 1000\n",
      "I have now fitted:  600 structures out of 1000\n",
      "I have now fitted:  700 structures out of 1000\n",
      "I have now fitted:  800 structures out of 1000\n",
      "I have now fitted:  900 structures out of 1000\n",
      "Best fit\n",
      "[3. 0.]\n",
      "Total execution time: 593.344s\n",
      "The best fitting structure is:\n"
     ]
    },
    {
<<<<<<< HEAD
     "data": {
      "text/plain": [
       "array([3., 0., 0., 0., 0., 0., 0., 0., 0., 0., 0., 0., 0., 0., 0., 0., 0.,\n",
       "       0., 0., 0., 0., 0., 0., 0., 0., 0., 0.])"
=======
      "cell_type": "code",
      "source": [
        "print (\"Upload a PDF file in gr format\")\n",
        "StemName = list(files.upload())[0][:-3] # Upload PDF from local computer\n",
        "Experimental_Data = StemName + \".gr\" # Name of the experimental file\n",
        "saveFits = StemName + \".txt\" # Name of the saved fits file\n",
        "atom_ph, Qmin, Qmax, Qdamp, rmin, rmax = \"W\", 0.7, 20, 0.05, 1.6, 10\n"
      ],
      "metadata": {
        "colab": {
          "resources": {
            "http://localhost:8080/nbextensions/google.colab/files.js": {
              "data": "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",
              "ok": true,
              "headers": [
                [
                  "content-type",
                  "application/javascript"
                ]
              ],
              "status": 200,
              "status_text": ""
            }
          },
          "base_uri": "https://localhost:8080/",
          "height": 92
        },
        "id": "cmeF4HTvuJIc",
        "outputId": "ae58b344-4ef3-497e-c6fc-eb41805fdc5b"
      },
      "execution_count": null,
      "outputs": [
        {
          "output_type": "stream",
          "name": "stdout",
          "text": [
            "Upload a PDF file in gr format\n"
          ]
        },
        {
          "output_type": "display_data",
          "data": {
            "text/plain": [
              "<IPython.core.display.HTML object>"
            ],
            "text/html": [
              "\n",
              "     <input type=\"file\" id=\"files-e0b6658b-aee0-42a8-97c0-0bac7153cdba\" name=\"files[]\" multiple disabled\n",
              "        style=\"border:none\" />\n",
              "     <output id=\"result-e0b6658b-aee0-42a8-97c0-0bac7153cdba\">\n",
              "      Upload widget is only available when the cell has been executed in the\n",
              "      current browser session. Please rerun this cell to enable.\n",
              "      </output>\n",
              "      <script src=\"/nbextensions/google.colab/files.js\"></script> "
            ]
          },
          "metadata": {}
        },
        {
          "output_type": "stream",
          "name": "stdout",
          "text": [
            "Saving DanMAX_AlphaKeggin_nyquist.gr to DanMAX_AlphaKeggin_nyquist.gr\n"
          ]
        }
>>>>>>> 8569abb01d6e5a2f2fe92acbfaa44a1fac87a152
      ]
     },
     "execution_count": 9,
     "metadata": {},
     "output_type": "execute_result"
    }
   ],
   "source": [
    "Result = fitting_multiprocess(structure_catalogue, atom_ph, Qmin, Qmax, Qdamp, rmin, rmax, SaveName=saveFits, cores=None)\n",
    "print (\"The best fitting structure is:\")\n",
    "Result[np.argmin(Result[:,1])]\n"
   ]
  },
  {
   "cell_type": "markdown",
   "metadata": {
    "id": "dXVWN7v00UIf"
   },
   "source": [
    "# Step 3: Train a XGBoost Regressor to predict the Rwp value based on the structure catalogue\n",
    "### Set range for model optimization. \n",
    "\n",
    "It can take a few minutes to train the XGBoost model. \n",
    "N_iter gives a measure of how rounds the model should try to optimize. Set to a low number for a less accurate but fast convergence. "
   ]
  },
  {
   "cell_type": "code",
   "execution_count": null,
   "metadata": {
    "colab": {
     "base_uri": "https://localhost:8080/",
     "height": 1000
    },
    "id": "k6za1V2Q0UQ0",
    "outputId": "f11cb078-a1e7-493f-b3c3-1559be268ac8"
   },
   "outputs": [
    {
     "name": "stdout",
     "output_type": "stream",
     "text": [
      "Number of Training Data: 800\n",
      "Number of Validation Data: 200\n",
      "|   iter    |  target   | learni... | max_depth |\n",
      "-------------------------------------------------\n",
      "| \u001b[0m 1       \u001b[0m | \u001b[0m 0.89    \u001b[0m | \u001b[0m 0.4842  \u001b[0m | \u001b[0m 7.722   \u001b[0m |\n",
      "| \u001b[0m 2       \u001b[0m | \u001b[0m 0.8885  \u001b[0m | \u001b[0m 0.5219  \u001b[0m | \u001b[0m 6.359   \u001b[0m |\n",
      "| \u001b[95m 3       \u001b[0m | \u001b[95m 0.8996  \u001b[0m | \u001b[95m 0.3966  \u001b[0m | \u001b[95m 7.167   \u001b[0m |\n",
      "| \u001b[0m 4       \u001b[0m | \u001b[0m 0.8917  \u001b[0m | \u001b[0m 0.4063  \u001b[0m | \u001b[0m 9.134   \u001b[0m |\n",
      "| \u001b[95m 5       \u001b[0m | \u001b[95m 0.9483  \u001b[0m | \u001b[95m 0.1064  \u001b[0m | \u001b[95m 4.058   \u001b[0m |\n",
      "| \u001b[0m 6       \u001b[0m | \u001b[0m 0.9436  \u001b[0m | \u001b[0m 0.1     \u001b[0m | \u001b[0m 3.265   \u001b[0m |\n",
      "| \u001b[0m 7       \u001b[0m | \u001b[0m 0.9408  \u001b[0m | \u001b[0m 0.8     \u001b[0m | \u001b[0m 3.737   \u001b[0m |\n",
      "| \u001b[95m 8       \u001b[0m | \u001b[95m 0.9635  \u001b[0m | \u001b[95m 0.8     \u001b[0m | \u001b[95m 2.0     \u001b[0m |\n",
      "| \u001b[0m 9       \u001b[0m | \u001b[0m 0.9308  \u001b[0m | \u001b[0m 0.1     \u001b[0m | \u001b[0m 2.0     \u001b[0m |\n",
      "| \u001b[0m 10      \u001b[0m | \u001b[0m 0.9635  \u001b[0m | \u001b[0m 0.8     \u001b[0m | \u001b[0m 2.625   \u001b[0m |\n",
      "| \u001b[0m 11      \u001b[0m | \u001b[0m 0.9635  \u001b[0m | \u001b[0m 0.8     \u001b[0m | \u001b[0m 2.305   \u001b[0m |\n",
      "| \u001b[0m 12      \u001b[0m | \u001b[0m 0.9464  \u001b[0m | \u001b[0m 0.1     \u001b[0m | \u001b[0m 4.81    \u001b[0m |\n",
      "| \u001b[0m 13      \u001b[0m | \u001b[0m 0.9404  \u001b[0m | \u001b[0m 0.7997  \u001b[0m | \u001b[0m 3.039   \u001b[0m |\n",
      "| \u001b[0m 14      \u001b[0m | \u001b[0m 0.9007  \u001b[0m | \u001b[0m 0.8     \u001b[0m | \u001b[0m 4.659   \u001b[0m |\n",
      "| \u001b[0m 15      \u001b[0m | \u001b[0m 0.9616  \u001b[0m | \u001b[0m 0.3879  \u001b[0m | \u001b[0m 2.593   \u001b[0m |\n",
      "| \u001b[0m 16      \u001b[0m | \u001b[0m 0.8424  \u001b[0m | \u001b[0m 0.7897  \u001b[0m | \u001b[0m 9.986   \u001b[0m |\n",
      "| \u001b[0m 17      \u001b[0m | \u001b[0m 0.9358  \u001b[0m | \u001b[0m 0.1     \u001b[0m | \u001b[0m 5.444   \u001b[0m |\n",
      "| \u001b[0m 18      \u001b[0m | \u001b[0m 0.9308  \u001b[0m | \u001b[0m 0.1     \u001b[0m | \u001b[0m 2.707   \u001b[0m |\n",
      "| \u001b[0m 19      \u001b[0m | \u001b[0m 0.9619  \u001b[0m | \u001b[0m 0.5299  \u001b[0m | \u001b[0m 2.253   \u001b[0m |\n",
      "| \u001b[95m 20      \u001b[0m | \u001b[95m 0.9652  \u001b[0m | \u001b[95m 0.6025  \u001b[0m | \u001b[95m 2.568   \u001b[0m |\n",
      "| \u001b[0m 21      \u001b[0m | \u001b[0m 0.958   \u001b[0m | \u001b[0m 0.3327  \u001b[0m | \u001b[0m 3.649   \u001b[0m |\n",
      "| \u001b[0m 22      \u001b[0m | \u001b[0m 0.9445  \u001b[0m | \u001b[0m 0.1012  \u001b[0m | \u001b[0m 3.659   \u001b[0m |\n",
      "| \u001b[0m 23      \u001b[0m | \u001b[0m 0.9441  \u001b[0m | \u001b[0m 0.4576  \u001b[0m | \u001b[0m 4.007   \u001b[0m |\n",
      "| \u001b[0m 24      \u001b[0m | \u001b[0m 0.9587  \u001b[0m | \u001b[0m 0.4487  \u001b[0m | \u001b[0m 3.351   \u001b[0m |\n",
      "| \u001b[0m 25      \u001b[0m | \u001b[0m 0.9631  \u001b[0m | \u001b[0m 0.4872  \u001b[0m | \u001b[0m 2.826   \u001b[0m |\n",
      "| \u001b[0m 26      \u001b[0m | \u001b[0m 0.9635  \u001b[0m | \u001b[0m 0.5601  \u001b[0m | \u001b[0m 2.005   \u001b[0m |\n",
      "| \u001b[0m 27      \u001b[0m | \u001b[0m 0.9634  \u001b[0m | \u001b[0m 0.6883  \u001b[0m | \u001b[0m 2.116   \u001b[0m |\n",
      "| \u001b[0m 28      \u001b[0m | \u001b[0m 0.9625  \u001b[0m | \u001b[0m 0.5636  \u001b[0m | \u001b[0m 2.694   \u001b[0m |\n",
      "| \u001b[0m 29      \u001b[0m | \u001b[0m 0.9576  \u001b[0m | \u001b[0m 0.3961  \u001b[0m | \u001b[0m 3.071   \u001b[0m |\n",
      "| \u001b[0m 30      \u001b[0m | \u001b[0m 0.963   \u001b[0m | \u001b[0m 0.714   \u001b[0m | \u001b[0m 2.454   \u001b[0m |\n",
      "| \u001b[0m 31      \u001b[0m | \u001b[0m 0.8751  \u001b[0m | \u001b[0m 0.8     \u001b[0m | \u001b[0m 5.517   \u001b[0m |\n",
      "| \u001b[0m 32      \u001b[0m | \u001b[0m 0.909   \u001b[0m | \u001b[0m 0.1086  \u001b[0m | \u001b[0m 8.428   \u001b[0m |\n",
      "| \u001b[0m 33      \u001b[0m | \u001b[0m 0.9464  \u001b[0m | \u001b[0m 0.1     \u001b[0m | \u001b[0m 4.438   \u001b[0m |\n",
      "| \u001b[0m 34      \u001b[0m | \u001b[0m 0.9625  \u001b[0m | \u001b[0m 0.4913  \u001b[0m | \u001b[0m 2.462   \u001b[0m |\n",
      "| \u001b[0m 35      \u001b[0m | \u001b[0m 0.8443  \u001b[0m | \u001b[0m 0.8     \u001b[0m | \u001b[0m 8.499   \u001b[0m |\n",
      "| \u001b[0m 36      \u001b[0m | \u001b[0m 0.9531  \u001b[0m | \u001b[0m 0.5316  \u001b[0m | \u001b[0m 3.575   \u001b[0m |\n",
      "| \u001b[0m 37      \u001b[0m | \u001b[0m 0.9643  \u001b[0m | \u001b[0m 0.3839  \u001b[0m | \u001b[0m 2.791   \u001b[0m |\n",
      "| \u001b[0m 38      \u001b[0m | \u001b[0m 0.9624  \u001b[0m | \u001b[0m 0.797   \u001b[0m | \u001b[0m 2.173   \u001b[0m |\n",
      "| \u001b[0m 39      \u001b[0m | \u001b[0m 0.9627  \u001b[0m | \u001b[0m 0.5012  \u001b[0m | \u001b[0m 2.606   \u001b[0m |\n",
      "| \u001b[0m 40      \u001b[0m | \u001b[0m 0.9358  \u001b[0m | \u001b[0m 0.1     \u001b[0m | \u001b[0m 5.969   \u001b[0m |\n",
      "| \u001b[0m 41      \u001b[0m | \u001b[0m 0.9579  \u001b[0m | \u001b[0m 0.3142  \u001b[0m | \u001b[0m 3.459   \u001b[0m |\n",
      "| \u001b[95m 42      \u001b[0m | \u001b[95m 0.9666  \u001b[0m | \u001b[95m 0.662   \u001b[0m | \u001b[95m 2.004   \u001b[0m |\n",
      "| \u001b[0m 43      \u001b[0m | \u001b[0m 0.9089  \u001b[0m | \u001b[0m 0.1     \u001b[0m | \u001b[0m 10.0    \u001b[0m |\n",
      "| \u001b[0m 44      \u001b[0m | \u001b[0m 0.9634  \u001b[0m | \u001b[0m 0.6836  \u001b[0m | \u001b[0m 2.591   \u001b[0m |\n",
      "| \u001b[0m 45      \u001b[0m | \u001b[0m 0.9053  \u001b[0m | \u001b[0m 0.1702  \u001b[0m | \u001b[0m 8.974   \u001b[0m |\n",
      "| \u001b[0m 46      \u001b[0m | \u001b[0m 0.9267  \u001b[0m | \u001b[0m 0.1     \u001b[0m | \u001b[0m 6.619   \u001b[0m |\n",
      "| \u001b[0m 47      \u001b[0m | \u001b[0m 0.9165  \u001b[0m | \u001b[0m 0.3226  \u001b[0m | \u001b[0m 6.616   \u001b[0m |\n",
      "| \u001b[0m 48      \u001b[0m | \u001b[0m 0.9615  \u001b[0m | \u001b[0m 0.4331  \u001b[0m | \u001b[0m 2.264   \u001b[0m |\n",
      "| \u001b[0m 49      \u001b[0m | \u001b[0m 0.8831  \u001b[0m | \u001b[0m 0.5425  \u001b[0m | \u001b[0m 9.02    \u001b[0m |\n",
      "| \u001b[0m 50      \u001b[0m | \u001b[0m 0.9637  \u001b[0m | \u001b[0m 0.7969  \u001b[0m | \u001b[0m 2.452   \u001b[0m |\n",
      "| \u001b[0m 51      \u001b[0m | \u001b[0m 0.9602  \u001b[0m | \u001b[0m 0.7242  \u001b[0m | \u001b[0m 2.007   \u001b[0m |\n",
      "| \u001b[0m 52      \u001b[0m | \u001b[0m 0.87    \u001b[0m | \u001b[0m 0.8     \u001b[0m | \u001b[0m 6.908   \u001b[0m |\n",
      "| \u001b[0m 53      \u001b[0m | \u001b[0m 0.8967  \u001b[0m | \u001b[0m 0.798   \u001b[0m | \u001b[0m 4.105   \u001b[0m |\n",
      "| \u001b[0m 54      \u001b[0m | \u001b[0m 0.9335  \u001b[0m | \u001b[0m 0.3431  \u001b[0m | \u001b[0m 5.056   \u001b[0m |\n",
      "=================================================\n",
      "Best parameters were:  {'target': 0.9666489346125638, 'params': {'learning_rate': 0.6620264328313645, 'max_depth': 2.004126743554451}}\n"
     ]
    },
    {
<<<<<<< HEAD
     "name": "stderr",
     "output_type": "stream",
     "text": [
      "Use subset (sliced data) of np.ndarray is not recommended because it will generate extra copies and increase memory consumption\n"
     ]
=======
      "cell_type": "code",
      "source": [
        "Result = fitting_multiprocess(structure_catalogue, atom_ph, Qmin, Qmax, Qdamp, rmin, rmax, SaveName=saveFits, cores=None)\n",
        "print (\"The best fitting structure is:\")\n",
        "Result[np.argmin(Result[:,1])]\n"
      ],
      "metadata": {
        "colab": {
          "base_uri": "https://localhost:8080/"
        },
        "id": "L5x9IHiDuOlu",
        "outputId": "568a2041-d7e0-4516-8167-1d6a47bc25e2"
      },
      "execution_count": null,
      "outputs": [
        {
          "output_type": "stream",
          "name": "stdout",
          "text": [
            "I have now fitted:  0 structures out of 1000\n",
            "I have now fitted:  100 structures out of 1000\n",
            "I have now fitted:  200 structures out of 1000\n",
            "I have now fitted:  300 structures out of 1000\n",
            "I have now fitted:  400 structures out of 1000\n",
            "I have now fitted:  500 structures out of 1000\n",
            "I have now fitted:  600 structures out of 1000\n",
            "I have now fitted:  700 structures out of 1000\n",
            "I have now fitted:  800 structures out of 1000\n",
            "I have now fitted:  900 structures out of 1000\n",
            "Best fit\n",
            "[302.           0.52955393]\n",
            "Total execution time: 581.129s\n",
            "The best fitting structure is:\n"
          ]
        },
        {
          "output_type": "execute_result",
          "data": {
            "text/plain": [
              "array([302.        ,   0.52955393,  19.        ,   1.        ,\n",
              "         0.        ,   1.        ,   1.        ,   1.        ,\n",
              "         1.        ,   1.        ,   0.        ,   1.        ,\n",
              "         0.        ,   1.        ,   0.        ,   1.        ,\n",
              "         0.        ,   1.        ,   1.        ,   1.        ,\n",
              "         1.        ,   1.        ,   1.        ,   1.        ,\n",
              "         1.        ,   1.        ,   1.        ])"
            ]
          },
          "metadata": {},
          "execution_count": 20
        }
      ]
>>>>>>> 8569abb01d6e5a2f2fe92acbfaa44a1fac87a152
    },
    {
     "name": "stdout",
     "output_type": "stream",
     "text": [
      "Training using the best parameters\n",
      "Total execution time: 1.086 s\n",
      "Training succeeded\n",
      "Giving an estimate of the accuracy of the model\n",
      "RMSE: 0.000369\n"
     ]
    },
    {
<<<<<<< HEAD
     "data": {
      "image/png": "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\n",
      "text/plain": [
       "<Figure size 432x288 with 1 Axes>"
=======
      "cell_type": "code",
      "source": [
        "Min_LR = 0.1 # Minimum learning rate for the XGBoost algorithm\n",
        "Max_LR = 0.8 # Maximum learning rate for the XGBoost algorithm\n",
        "Min_Dep = 2 # Minimum max depth for the XGBoost algorithm\n",
        "Max_Dep = 10 # Maximum max depth for the XGBoost algorithm\n",
        "n_iter = 50 # Number of iterations for the bayesian optimization model\n",
        "\n",
        "# Import dataset\n",
        "X_train, y_train, X_val, y_val = Import_Dataset(saveFits)\n",
        "\n",
        "# Make a dictionary of parameters we should optimize for the ML algorithm\n",
        "parameters_BayesianOptimization = {\"learning_rate\": (Min_LR, Max_LR), #0.1 is default - Boosting learning rate\n",
        "                                   \"max_depth\": (Min_Dep, Max_Dep)}  #3 is default - Maximum tree depth for base learners.\n",
        "\n",
        "# Finding the best parameters for the ML model\n",
        "BayesianOptimization_func = optimize_DecisionTree(X_train, y_train, parameters_BayesianOptimization, n_iter=n_iter)\n",
        "print(\"Best parameters were: \", BayesianOptimization_func.max)\n",
        "\n",
        "\n",
        "# Get best parameters for the ML model and make max depth to an integer\n",
        "params = BayesianOptimization_func.max['params']\n",
        "params['max_depth'] = int(params['max_depth'])\n",
        "\n",
        "#  Define model, train and validate the model and save model\n",
        "model, store = train_w_earlyStop(X_train, y_train, n_jobs=1, seed=0, base_score=0.5, n_estimators=100, gamma=0, min_child_weight=1, early_stop=50, **params)\n",
        "Validate_XGBoost(model, X_val, y_val)\n",
        "model.save_model(StemName + \"_XGB_model.dat\")\n"
      ],
      "metadata": {
        "colab": {
          "base_uri": "https://localhost:8080/",
          "height": 1000
        },
        "id": "k6za1V2Q0UQ0",
        "outputId": "e03467ff-56da-4320-aa3d-1cc90552e313"
      },
      "execution_count": null,
      "outputs": [
        {
          "output_type": "stream",
          "name": "stdout",
          "text": [
            "Number of Training Data: 800\n",
            "Number of Validation Data: 200\n",
            "|   iter    |  target   | learni... | max_depth |\n",
            "-------------------------------------------------\n",
            "| \u001b[0m 1       \u001b[0m | \u001b[0m 0.8937  \u001b[0m | \u001b[0m 0.4842  \u001b[0m | \u001b[0m 7.722   \u001b[0m |\n",
            "| \u001b[95m 2       \u001b[0m | \u001b[95m 0.9176  \u001b[0m | \u001b[95m 0.5219  \u001b[0m | \u001b[95m 6.359   \u001b[0m |\n",
            "| \u001b[0m 3       \u001b[0m | \u001b[0m 0.9033  \u001b[0m | \u001b[0m 0.3966  \u001b[0m | \u001b[0m 7.167   \u001b[0m |\n",
            "| \u001b[0m 4       \u001b[0m | \u001b[0m 0.8976  \u001b[0m | \u001b[0m 0.4063  \u001b[0m | \u001b[0m 9.134   \u001b[0m |\n",
            "| \u001b[95m 5       \u001b[0m | \u001b[95m 0.9387  \u001b[0m | \u001b[95m 0.1     \u001b[0m | \u001b[95m 5.625   \u001b[0m |\n",
            "| \u001b[95m 6       \u001b[0m | \u001b[95m 0.9506  \u001b[0m | \u001b[95m 0.1     \u001b[0m | \u001b[95m 4.223   \u001b[0m |\n",
            "| \u001b[0m 7       \u001b[0m | \u001b[0m 0.9394  \u001b[0m | \u001b[0m 0.1     \u001b[0m | \u001b[0m 2.0     \u001b[0m |\n",
            "| \u001b[0m 8       \u001b[0m | \u001b[0m 0.944   \u001b[0m | \u001b[0m 0.8     \u001b[0m | \u001b[0m 3.319   \u001b[0m |\n",
            "| \u001b[95m 9       \u001b[0m | \u001b[95m 0.9512  \u001b[0m | \u001b[95m 0.1     \u001b[0m | \u001b[95m 3.328   \u001b[0m |\n",
            "| \u001b[0m 10      \u001b[0m | \u001b[0m 0.9512  \u001b[0m | \u001b[0m 0.1     \u001b[0m | \u001b[0m 3.735   \u001b[0m |\n",
            "| \u001b[0m 11      \u001b[0m | \u001b[0m 0.9512  \u001b[0m | \u001b[0m 0.1     \u001b[0m | \u001b[0m 3.513   \u001b[0m |\n",
            "| \u001b[0m 12      \u001b[0m | \u001b[0m 0.9512  \u001b[0m | \u001b[0m 0.1     \u001b[0m | \u001b[0m 3.022   \u001b[0m |\n",
            "| \u001b[0m 13      \u001b[0m | \u001b[0m 0.9512  \u001b[0m | \u001b[0m 0.1     \u001b[0m | \u001b[0m 3.93    \u001b[0m |\n",
            "| \u001b[0m 14      \u001b[0m | \u001b[0m 0.9512  \u001b[0m | \u001b[0m 0.1     \u001b[0m | \u001b[0m 3.149   \u001b[0m |\n",
            "| \u001b[95m 15      \u001b[0m | \u001b[95m 0.9635  \u001b[0m | \u001b[95m 0.2411  \u001b[0m | \u001b[95m 3.951   \u001b[0m |\n",
            "| \u001b[0m 16      \u001b[0m | \u001b[0m 0.9222  \u001b[0m | \u001b[0m 0.8     \u001b[0m | \u001b[0m 4.388   \u001b[0m |\n",
            "| \u001b[95m 17      \u001b[0m | \u001b[95m 0.9675  \u001b[0m | \u001b[95m 0.8     \u001b[0m | \u001b[95m 2.304   \u001b[0m |\n",
            "| \u001b[0m 18      \u001b[0m | \u001b[0m 0.9675  \u001b[0m | \u001b[0m 0.8     \u001b[0m | \u001b[0m 2.0     \u001b[0m |\n",
            "| \u001b[0m 19      \u001b[0m | \u001b[0m 0.9622  \u001b[0m | \u001b[0m 0.5249  \u001b[0m | \u001b[0m 3.792   \u001b[0m |\n",
            "| \u001b[0m 20      \u001b[0m | \u001b[0m 0.8678  \u001b[0m | \u001b[0m 0.8     \u001b[0m | \u001b[0m 10.0    \u001b[0m |\n",
            "| \u001b[0m 21      \u001b[0m | \u001b[0m 0.9672  \u001b[0m | \u001b[0m 0.571   \u001b[0m | \u001b[0m 2.675   \u001b[0m |\n",
            "| \u001b[0m 22      \u001b[0m | \u001b[0m 0.9672  \u001b[0m | \u001b[0m 0.5033  \u001b[0m | \u001b[0m 2.327   \u001b[0m |\n",
            "| \u001b[0m 23      \u001b[0m | \u001b[0m 0.9506  \u001b[0m | \u001b[0m 0.1     \u001b[0m | \u001b[0m 4.966   \u001b[0m |\n",
            "| \u001b[0m 24      \u001b[0m | \u001b[0m 0.8867  \u001b[0m | \u001b[0m 0.7931  \u001b[0m | \u001b[0m 5.432   \u001b[0m |\n",
            "| \u001b[0m 25      \u001b[0m | \u001b[0m 0.9675  \u001b[0m | \u001b[0m 0.8     \u001b[0m | \u001b[0m 2.642   \u001b[0m |\n",
            "| \u001b[95m 26      \u001b[0m | \u001b[95m 0.9676  \u001b[0m | \u001b[95m 0.5601  \u001b[0m | \u001b[95m 2.005   \u001b[0m |\n",
            "| \u001b[95m 27      \u001b[0m | \u001b[95m 0.9678  \u001b[0m | \u001b[95m 0.6644  \u001b[0m | \u001b[95m 2.479   \u001b[0m |\n",
            "| \u001b[95m 28      \u001b[0m | \u001b[95m 0.9689  \u001b[0m | \u001b[95m 0.6569  \u001b[0m | \u001b[95m 2.155   \u001b[0m |\n",
            "| \u001b[0m 29      \u001b[0m | \u001b[0m 0.9448  \u001b[0m | \u001b[0m 0.4302  \u001b[0m | \u001b[0m 4.029   \u001b[0m |\n",
            "| \u001b[0m 30      \u001b[0m | \u001b[0m 0.9389  \u001b[0m | \u001b[0m 0.1396  \u001b[0m | \u001b[0m 5.287   \u001b[0m |\n",
            "| \u001b[0m 31      \u001b[0m | \u001b[0m 0.962   \u001b[0m | \u001b[0m 0.413   \u001b[0m | \u001b[0m 3.506   \u001b[0m |\n",
            "| \u001b[0m 32      \u001b[0m | \u001b[0m 0.8865  \u001b[0m | \u001b[0m 0.5251  \u001b[0m | \u001b[0m 9.146   \u001b[0m |\n",
            "| \u001b[0m 33      \u001b[0m | \u001b[0m 0.9468  \u001b[0m | \u001b[0m 0.4825  \u001b[0m | \u001b[0m 4.531   \u001b[0m |\n",
            "| \u001b[0m 34      \u001b[0m | \u001b[0m 0.9614  \u001b[0m | \u001b[0m 0.1717  \u001b[0m | \u001b[0m 3.879   \u001b[0m |\n",
            "| \u001b[0m 35      \u001b[0m | \u001b[0m 0.9152  \u001b[0m | \u001b[0m 0.1     \u001b[0m | \u001b[0m 8.483   \u001b[0m |\n",
            "| \u001b[0m 36      \u001b[0m | \u001b[0m 0.9457  \u001b[0m | \u001b[0m 0.1198  \u001b[0m | \u001b[0m 2.541   \u001b[0m |\n",
            "| \u001b[0m 37      \u001b[0m | \u001b[0m 0.9506  \u001b[0m | \u001b[0m 0.1     \u001b[0m | \u001b[0m 4.61    \u001b[0m |\n",
            "| \u001b[0m 38      \u001b[0m | \u001b[0m 0.9687  \u001b[0m | \u001b[0m 0.6313  \u001b[0m | \u001b[0m 2.226   \u001b[0m |\n",
            "| \u001b[95m 39      \u001b[0m | \u001b[95m 0.9694  \u001b[0m | \u001b[95m 0.6592  \u001b[0m | \u001b[95m 2.126   \u001b[0m |\n",
            "| \u001b[0m 40      \u001b[0m | \u001b[0m 0.9669  \u001b[0m | \u001b[0m 0.5026  \u001b[0m | \u001b[0m 2.996   \u001b[0m |\n",
            "| \u001b[0m 41      \u001b[0m | \u001b[0m 0.9675  \u001b[0m | \u001b[0m 0.8     \u001b[0m | \u001b[0m 2.91    \u001b[0m |\n",
            "| \u001b[0m 42      \u001b[0m | \u001b[0m 0.9634  \u001b[0m | \u001b[0m 0.351   \u001b[0m | \u001b[0m 3.736   \u001b[0m |\n",
            "| \u001b[0m 43      \u001b[0m | \u001b[0m 0.9278  \u001b[0m | \u001b[0m 0.1     \u001b[0m | \u001b[0m 6.237   \u001b[0m |\n",
            "| \u001b[0m 44      \u001b[0m | \u001b[0m 0.9159  \u001b[0m | \u001b[0m 0.1     \u001b[0m | \u001b[0m 10.0    \u001b[0m |\n",
            "| \u001b[0m 45      \u001b[0m | \u001b[0m 0.9145  \u001b[0m | \u001b[0m 0.1702  \u001b[0m | \u001b[0m 8.974   \u001b[0m |\n",
            "| \u001b[0m 46      \u001b[0m | \u001b[0m 0.9688  \u001b[0m | \u001b[0m 0.6458  \u001b[0m | \u001b[0m 2.837   \u001b[0m |\n",
            "| \u001b[0m 47      \u001b[0m | \u001b[0m 0.9145  \u001b[0m | \u001b[0m 0.3226  \u001b[0m | \u001b[0m 6.616   \u001b[0m |\n",
            "| \u001b[0m 48      \u001b[0m | \u001b[0m 0.9677  \u001b[0m | \u001b[0m 0.4331  \u001b[0m | \u001b[0m 2.264   \u001b[0m |\n",
            "| \u001b[0m 49      \u001b[0m | \u001b[0m 0.892   \u001b[0m | \u001b[0m 0.5425  \u001b[0m | \u001b[0m 9.02    \u001b[0m |\n",
            "| \u001b[0m 50      \u001b[0m | \u001b[0m 0.944   \u001b[0m | \u001b[0m 0.8     \u001b[0m | \u001b[0m 3.733   \u001b[0m |\n",
            "| \u001b[0m 51      \u001b[0m | \u001b[0m 0.9679  \u001b[0m | \u001b[0m 0.3925  \u001b[0m | \u001b[0m 2.839   \u001b[0m |\n",
            "| \u001b[0m 52      \u001b[0m | \u001b[0m 0.962   \u001b[0m | \u001b[0m 0.3661  \u001b[0m | \u001b[0m 3.204   \u001b[0m |\n",
            "| \u001b[95m 53      \u001b[0m | \u001b[95m 0.97    \u001b[0m | \u001b[95m 0.5143  \u001b[0m | \u001b[95m 2.125   \u001b[0m |\n",
            "| \u001b[0m 54      \u001b[0m | \u001b[0m 0.9511  \u001b[0m | \u001b[0m 0.4085  \u001b[0m | \u001b[0m 4.845   \u001b[0m |\n",
            "=================================================\n",
            "Best parameters were:  {'target': 0.9700398673600897, 'params': {'learning_rate': 0.5142897394919834, 'max_depth': 2.1245158553322945}}\n"
          ]
        },
        {
          "output_type": "stream",
          "name": "stderr",
          "text": [
            "Use subset (sliced data) of np.ndarray is not recommended because it will generate extra copies and increase memory consumption\n"
          ]
        },
        {
          "output_type": "stream",
          "name": "stdout",
          "text": [
            "Training using the best parameters\n",
            "Total execution time: 1.427 s\n",
            "Training succeeded\n",
            "Giving an estimate of the accuracy of the model\n",
            "RMSE: 0.000395\n"
          ]
        },
        {
          "output_type": "display_data",
          "data": {
            "text/plain": [
              "<Figure size 432x288 with 1 Axes>"
            ],
            "image/png": "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\n"
          },
          "metadata": {
            "needs_background": "light"
          }
        }
>>>>>>> 8569abb01d6e5a2f2fe92acbfaa44a1fac87a152
      ]
     },
     "metadata": {
      "needs_background": "light"
     },
     "output_type": "display_data"
    }
   ],
   "source": [
    "Min_LR = 0.1 # Minimum learning rate for the XGBoost algorithm\n",
    "Max_LR = 0.8 # Maximum learning rate for the XGBoost algorithm\n",
    "Min_Dep = 2 # Minimum max depth for the XGBoost algorithm\n",
    "Max_Dep = 10 # Maximum max depth for the XGBoost algorithm\n",
    "n_iter = 50 # Number of iterations for the bayesian optimization model\n",
    "\n",
    "# Import dataset\n",
    "X_train, y_train, X_val, y_val = Import_Dataset(saveFits)\n",
    "\n",
    "# Make a dictionary of parameters we should optimize for the ML algorithm\n",
    "parameters_BayesianOptimization = {\"learning_rate\": (Min_LR, Max_LR), #0.1 is default - Boosting learning rate\n",
    "                                   \"max_depth\": (Min_Dep, Max_Dep)}  #3 is default - Maximum tree depth for base learners.\n",
    "\n",
    "# Finding the best parameters for the ML model\n",
    "BayesianOptimization_func = optimize_DecisionTree(X_train, y_train, parameters_BayesianOptimization, n_iter=n_iter)\n",
    "print(\"Best parameters were: \", BayesianOptimization_func.max)\n",
    "\n",
    "\n",
    "# Get best parameters for the ML model and make max depth to an integer\n",
    "params = BayesianOptimization_func.max['params']\n",
    "params['max_depth'] = int(params['max_depth'])\n",
    "\n",
    "#  Define model, train and validate the model and save model\n",
    "model, store = train_w_earlyStop(X_train, y_train, n_jobs=1, seed=0, base_score=0.5, n_estimators=100, gamma=0, min_child_weight=1, early_stop=50, **params)\n",
    "Validate_XGBoost(model, X_val, y_val)\n",
    "model.save_model(StemName + \"_XGB_model.dat\")\n"
   ]
  },
  {
   "cell_type": "markdown",
   "metadata": {
    "id": "q6kRsee70YeD"
   },
   "source": [
    "# Step 4: Calculate atom contribution values\n",
    "\n"
   ]
  },
  {
   "cell_type": "code",
   "execution_count": null,
   "metadata": {
    "colab": {
     "base_uri": "https://localhost:8080/",
     "height": 809
    },
    "id": "WY9eQsMn0YmY",
    "outputId": "90c8df33-f4a6-46c7-8c83-564f7b4e5897"
   },
   "outputs": [
    {
<<<<<<< HEAD
     "data": {
      "image/png": "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\n",
      "text/plain": [
       "<Figure size 576x799.2 with 2 Axes>"
=======
      "cell_type": "markdown",
      "source": [
        "# Step 4: Calculate atom contribution values\n",
        "\n"
      ],
      "metadata": {
        "id": "q6kRsee70YeD"
      }
    },
    {
      "cell_type": "code",
      "source": [
        "# Calculate SHAP values and save to savePATH.\n",
        "explainer, shap_values = shap_essential_figure(model, X_train, \"./\")\n",
        "\n",
        "# Calculate atom contribution values\n",
        "m, AtomContributionValues = calculate_atomContributionValue(shap_values, X_train, \"./\")\n",
        "\n",
        "# Output a CrystalMaker and VESTA file\n",
        "elements, xyz = Load_starting_model(starting_model)\n",
        "Make_CrystalMakerFile(elements, xyz, AtomContributionValues, m, StemName, threshold)\n",
        "Make_VestaFile(elements, xyz, AtomContributionValues, m, StemName, threshold)\n"
      ],
      "metadata": {
        "colab": {
          "base_uri": "https://localhost:8080/",
          "height": 1000
        },
        "id": "WY9eQsMn0YmY",
        "outputId": "7059aab1-d1b5-48bf-dacd-086bcc348518"
      },
      "execution_count": null,
      "outputs": [
        {
          "output_type": "stream",
          "name": "stdout",
          "text": [
            "Atom 1  AtomContributionValue:  -0.01699457596987486  +/-  0.002923023730934339 Atom 1  confidence factor:  5.81403968432462\n",
            "Atom 2  AtomContributionValue:  0.00975168077275157  +/-  0.0030217746733703617 Atom 2  confidence factor:  3.227136973080442\n",
            "Atom 3  AtomContributionValue:  -0.017684398218989372  +/-  0.003755300817064176 Atom 3  confidence factor:  4.709182853909079\n",
            "Atom 4  AtomContributionValue:  0.011525524314492941  +/-  0.003638595352413145 Atom 4  confidence factor:  3.1675751761869106\n",
            "Atom 5  AtomContributionValue:  -0.012401421554386616  +/-  0.002212312323572707 Atom 5  confidence factor:  5.605637785518147\n",
            "Atom 6  AtomContributionValue:  0.006164898164570332  +/-  0.0021212842503875655 Atom 6  confidence factor:  2.9062103126650682\n",
            "Atom 7  AtomContributionValue:  -0.014647083356976509  +/-  0.002658000928426119 Atom 7  confidence factor:  5.510563672244268\n",
            "Atom 8  AtomContributionValue:  0.009898812975734472  +/-  0.0030888339911356627 Atom 8  confidence factor:  3.204708638969297\n",
            "Atom 9  AtomContributionValue:  -0.02223252598196268  +/-  0.0025321379957458944 Atom 9  confidence factor:  8.780139952606977\n",
            "Atom 10  AtomContributionValue:  0.010412891861051321  +/-  0.002737093247775844 Atom 10  confidence factor:  3.8043613857557883\n",
            "Atom 11  AtomContributionValue:  -0.012583115603774786  +/-  0.0024910266117363126 Atom 11  confidence factor:  5.051377429887839\n",
            "Atom 12  AtomContributionValue:  0.004139576922170818  +/-  0.0017868625637491055 Atom 12  confidence factor:  2.316673372732912\n",
            "Atom 13  AtomContributionValue:  -0.01624655444175005  +/-  0.003238856184052017 Atom 13  confidence factor:  5.016139500650679\n",
            "Atom 14  AtomContributionValue:  0.011787744238972664  +/-  0.0032258705879573512 Atom 14  confidence factor:  3.654128061732558\n",
            "Atom 15  AtomContributionValue:  -0.015499812085181475  +/-  0.0026637556507423553 Atom 15  confidence factor:  5.818781494039016\n",
            "Atom 16  AtomContributionValue:  0.011997261084616184  +/-  0.003525340378754889 Atom 16  confidence factor:  3.4031497091504916\n",
            "Atom 17  AtomContributionValue:  -0.014884209726005793  +/-  0.0025026553153496304 Atom 17  confidence factor:  5.947367036409651\n",
            "Atom 18  AtomContributionValue:  0.0063246123027056456  +/-  0.0028682475897004577 Atom 18  confidence factor:  2.2050440573598284\n",
            "Atom 19  AtomContributionValue:  -0.017848028801381588  +/-  0.0026717930806983087 Atom 19  confidence factor:  6.680168808849811\n",
            "Atom 20  AtomContributionValue:  0.010110425762832165  +/-  0.0029236915671698098 Atom 20  confidence factor:  3.45810272067079\n",
            "Atom 21  AtomContributionValue:  -0.0174873024225235  +/-  0.0034387927872576037 Atom 21  confidence factor:  5.08530275139649\n",
            "Atom 22  AtomContributionValue:  0.011555926874279976  +/-  0.00292073879450091 Atom 22  confidence factor:  3.956508160208359\n",
            "Atom 23  AtomContributionValue:  -0.01293666334822774  +/-  0.0022566696314051094 Atom 23  confidence factor:  5.732635015863071\n",
            "Atom 24  AtomContributionValue:  0.005850473651662469  +/-  0.0028969466068119124 Atom 24  confidence factor:  2.0195310600152587\n",
            "Overall confidence factor:  4.4614360672594735  +/-  1.5929661366360965\n"
          ]
        },
        {
          "output_type": "display_data",
          "data": {
            "text/plain": [
              "<Figure size 576x799.2 with 2 Axes>"
            ],
            "image/png": "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\n"
          },
          "metadata": {
            "needs_background": "light"
          }
        }
>>>>>>> 8569abb01d6e5a2f2fe92acbfaa44a1fac87a152
      ]
     },
     "metadata": {
      "needs_background": "light"
     },
     "output_type": "display_data"
    }
   ],
   "source": [
    "# Calculate SHAP values and save to savePATH.\n",
    "explainer, shap_values = shap_essential_figure(model, X_train, \"./\")\n",
    "\n",
    "# Calculate atom contribution values\n",
    "m, AtomContributionValues = calculate_atomContributionValue(shap_values, X_train, \"./\")\n",
    "\n",
    "# Output a CrystalMaker file\n",
    "elements, xyz = Load_starting_model(starting_model)\n",
    "Make_CrystalMakerFile(elements, xyz, AtomContributionValues, m, StemName, threshold)\n",
    "Make_VestaFile(elements, xyz, AtomContributionValues, m, StemName, threshold)\n"
   ]
  },
  {
   "cell_type": "markdown",
   "metadata": {
    "id": "pYxRPBz-1OzS"
   },
   "source": [
    "## Download results"
   ]
  },
  {
   "cell_type": "code",
   "execution_count": null,
   "metadata": {
    "colab": {
     "base_uri": "https://localhost:8080/",
     "height": 17
    },
    "id": "oJwhLWputsA0",
    "outputId": "deaec798-30f9-446d-fdfe-935c6ad5e1b0"
   },
   "outputs": [
    {
<<<<<<< HEAD
     "data": {
      "application/javascript": [
       "\n",
       "    async function download(id, filename, size) {\n",
       "      if (!google.colab.kernel.accessAllowed) {\n",
       "        return;\n",
       "      }\n",
       "      const div = document.createElement('div');\n",
       "      const label = document.createElement('label');\n",
       "      label.textContent = `Downloading \"${filename}\": `;\n",
       "      div.appendChild(label);\n",
       "      const progress = document.createElement('progress');\n",
       "      progress.max = size;\n",
       "      div.appendChild(progress);\n",
       "      document.body.appendChild(div);\n",
       "\n",
       "      const buffers = [];\n",
       "      let downloaded = 0;\n",
       "\n",
       "      const channel = await google.colab.kernel.comms.open(id);\n",
       "      // Send a message to notify the kernel that we're ready.\n",
       "      channel.send({})\n",
       "\n",
       "      for await (const message of channel.messages) {\n",
       "        // Send a message to notify the kernel that we're ready.\n",
       "        channel.send({})\n",
       "        if (message.buffers) {\n",
       "          for (const buffer of message.buffers) {\n",
       "            buffers.push(buffer);\n",
       "            downloaded += buffer.byteLength;\n",
       "            progress.value = downloaded;\n",
       "          }\n",
       "        }\n",
       "      }\n",
       "      const blob = new Blob(buffers, {type: 'application/binary'});\n",
       "      const a = document.createElement('a');\n",
       "      a.href = window.URL.createObjectURL(blob);\n",
       "      a.download = filename;\n",
       "      div.appendChild(a);\n",
       "      a.click();\n",
       "      div.remove();\n",
       "    }\n",
       "  "
      ],
      "text/plain": [
       "<IPython.core.display.Javascript object>"
=======
      "cell_type": "markdown",
      "source": [
        "## Download results"
      ],
      "metadata": {
        "id": "pYxRPBz-1OzS"
      }
    },
    {
      "cell_type": "code",
      "source": [
        "# Download the latest results\n",
        "files.download(StemName + '_CrystalMaker.cmtx')\n",
        "#files.download(StemName + '_Vesta.vesta')"
      ],
      "metadata": {
        "colab": {
          "base_uri": "https://localhost:8080/",
          "height": 17
        },
        "id": "oJwhLWputsA0",
        "outputId": "5bef8ca1-13b1-4101-f86f-5f0c3770d439"
      },
      "execution_count": null,
      "outputs": [
        {
          "output_type": "display_data",
          "data": {
            "text/plain": [
              "<IPython.core.display.Javascript object>"
            ],
            "application/javascript": [
              "\n",
              "    async function download(id, filename, size) {\n",
              "      if (!google.colab.kernel.accessAllowed) {\n",
              "        return;\n",
              "      }\n",
              "      const div = document.createElement('div');\n",
              "      const label = document.createElement('label');\n",
              "      label.textContent = `Downloading \"${filename}\": `;\n",
              "      div.appendChild(label);\n",
              "      const progress = document.createElement('progress');\n",
              "      progress.max = size;\n",
              "      div.appendChild(progress);\n",
              "      document.body.appendChild(div);\n",
              "\n",
              "      const buffers = [];\n",
              "      let downloaded = 0;\n",
              "\n",
              "      const channel = await google.colab.kernel.comms.open(id);\n",
              "      // Send a message to notify the kernel that we're ready.\n",
              "      channel.send({})\n",
              "\n",
              "      for await (const message of channel.messages) {\n",
              "        // Send a message to notify the kernel that we're ready.\n",
              "        channel.send({})\n",
              "        if (message.buffers) {\n",
              "          for (const buffer of message.buffers) {\n",
              "            buffers.push(buffer);\n",
              "            downloaded += buffer.byteLength;\n",
              "            progress.value = downloaded;\n",
              "          }\n",
              "        }\n",
              "      }\n",
              "      const blob = new Blob(buffers, {type: 'application/binary'});\n",
              "      const a = document.createElement('a');\n",
              "      a.href = window.URL.createObjectURL(blob);\n",
              "      a.download = filename;\n",
              "      div.appendChild(a);\n",
              "      a.click();\n",
              "      div.remove();\n",
              "    }\n",
              "  "
            ]
          },
          "metadata": {}
        },
        {
          "output_type": "display_data",
          "data": {
            "text/plain": [
              "<IPython.core.display.Javascript object>"
            ],
            "application/javascript": [
              "download(\"download_bc06c7cb-1f23-4330-84b2-7c2e85ce538f\", \"DanMAX_AlphaKeggin_nyquist_CrystalMaker.cmtx\", 6308)"
            ]
          },
          "metadata": {}
        }
>>>>>>> 8569abb01d6e5a2f2fe92acbfaa44a1fac87a152
      ]
     },
     "metadata": {},
     "output_type": "display_data"
    },
    {
<<<<<<< HEAD
     "data": {
      "application/javascript": [
       "download(\"download_44654786-7663-4c4e-ac86-ced35701d919\", \"DanMAX_AlphaKeggin_CrystalMaker.cmtx\", 6655)"
=======
      "cell_type": "markdown",
      "source": [
        "# Cite\n",
        "If you use ML-MotEx, please consider citing our paper. Thanks in advance!\n",
        "```\n",
        "@article{anker2022ML-MotEx,\n",
        "title={Extracting Structural Motifs from Pair Distribution Function Data of Nanostructures using Explainable Machine Learning},\n",
        "author={Andy S. Anker, Emil T. S. Kjær, Mikkel Juelsholt, Troels Lindahl Christiansen, Susanne Linn Skjærvø, Mads Ry Vogel Jørgensen, Innokenty Kantor, Daniel R. Sørensen, Simon J. L. Billinge, Raghavendra Selvan, Kirsten M. Ø. Jensen},\n",
        "year={2022}}\n",
        "```\n",
        "\n",
        "# LICENSE\n",
        "This project is licensed under the Apache License Version 2.0, January 2004 - see the LICENSE file at https://github.com/AndySAnker/ML-MotEx/blob/main/LICENSE for details."
      ],
      "metadata": {
        "id": "FaTiV4jdhxDP"
      }
    },
    {
      "cell_type": "code",
      "source": [
        ""
>>>>>>> 8569abb01d6e5a2f2fe92acbfaa44a1fac87a152
      ],
      "text/plain": [
       "<IPython.core.display.Javascript object>"
      ]
     },
     "metadata": {},
     "output_type": "display_data"
    }
   ],
   "source": [
    "# Download the latest results\n",
    "files.download(StemName + '_CrystalMaker.cmtx')\n",
    "files.download(StemName + '_Vesta.vesta')"
   ]
  },
  {
   "cell_type": "markdown",
   "metadata": {
    "id": "FaTiV4jdhxDP"
   },
   "source": [
    "# Cite\n",
    "If you use DeepStruc, please consider citing our paper. Thanks in advance!\n",
    "```\n",
    "@article{anker2022ML-MotEx,\n",
    "title={Extracting Structural Motifs from Pair Distribution Function Data of Nanostructures using Explainable Machine Learning},\n",
    "author={Andy S. Anker, Emil T. S. Kjær, Mikkel Juelsholt, Troels Lindahl Christiansen, Susanne Linn Skjærvø, Mads Ry Vogel Jørgensen, Innokenty Kantor, Daniel R. Sørensen, Simon J. L. Billinge, Raghavendra Selvan, Kirsten M. Ø. Jensen},\n",
    "year={2022}}\n",
    "```\n",
    "\n",
    "# LICENSE\n",
    "This project is licensed under the Apache License Version 2.0, January 2004 - see the LICENSE file at https://github.com/AndySAnker/ML-MotEx/blob/main/LICENSE for details."
   ]
  },
  {
   "cell_type": "code",
   "execution_count": null,
   "metadata": {
    "id": "FLXilSzKiaMQ"
   },
   "outputs": [],
   "source": []
  }
 ],
 "metadata": {
  "colab": {
   "authorship_tag": "ABX9TyMwPjXNc+8wdXoS01gSSfCZ",
   "collapsed_sections": [],
   "include_colab_link": true,
   "name": "ML-MotEx-Colab.ipynb",
   "provenance": []
  },
  "kernelspec": {
   "display_name": "Python 3",
   "language": "python",
   "name": "python3"
  },
  "language_info": {
   "codemirror_mode": {
    "name": "ipython",
    "version": 3
   },
   "file_extension": ".py",
   "mimetype": "text/x-python",
   "name": "python",
   "nbconvert_exporter": "python",
   "pygments_lexer": "ipython3",
   "version": "3.6.8"
  }
 },
 "nbformat": 4,
 "nbformat_minor": 4
}
