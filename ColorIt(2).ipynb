{
 "cells": [
  {
   "cell_type": "markdown",
   "metadata": {},
   "source": [
    "<h1><center> Welcome to MotEx </center></h1>\n",
    "\n",
    "\n",
    "\n",
    "# First import modules, set seed parameters and import functions"
   ]
  },
  {
   "cell_type": "code",
   "execution_count": 2,
   "metadata": {},
   "outputs": [],
   "source": [
    "import numpy as np\n",
    "import matplotlib as mpl\n",
    "import matplotlib.cm\n",
    "import random\n",
    "random.seed(14)\n",
    "np.random.seed(14)"
   ]
  },
  {
   "cell_type": "code",
   "execution_count": 3,
   "metadata": {},
   "outputs": [],
   "source": [
    "\n",
    "\n",
    "def Make_CrystalMakerFile(elements, xyz, AtomContributionValues, m, saveResults, threshold):\n",
    "    # Output a crystalmaker file to visualize the results\n",
    "    CrystalMaker = open(saveResults+'CrystalMaker_MotEx.cmtx', 'w')\n",
    "\n",
    "    CrystalMaker.write(\"MOLE  CrystalMaker molecule format\\n\")\n",
    "    CrystalMaker.write(\"TITL  Molecule\\n\\n\")\n",
    "    CrystalMaker.write(\"! Model type\\n\")\n",
    "    CrystalMaker.write(\"MODL  1\\n\\n\")\n",
    "\n",
    "    CrystalMaker.write(\"! Depth fading settings\\n\")\n",
    "    CrystalMaker.write(\"DCUE  1.000000 0.212899 0.704686\\n\\n\")\n",
    "\n",
    "    CrystalMaker.write(\"! Colour definitions:\\n\")\n",
    "    CrystalMaker.write(\"TYPE\\n\")\n",
    "\n",
    "    # Assign colors to all the atoms\n",
    "    for iter, element in enumerate(elements):\n",
    "        if iter < NumMo:\n",
    "            CrystalMaker.write(element + str(iter+1) + \" 1.32 \")\n",
    "            rgb1 = m.to_rgba(AtomContributionValues[iter])[:-1][0]\n",
    "            rgb2 = m.to_rgba(AtomContributionValues[iter])[:-1][1]\n",
    "            rgb3 = m.to_rgba(AtomContributionValues[iter])[:-1][2]\n",
    "            CrystalMaker.write(str(rgb1) + \" \" + str(rgb2) + \" \" + str(rgb3))\n",
    "            CrystalMaker.write(\"\\n\")\n",
    "        else:\n",
    "            CrystalMaker.write(element + str(iter+1) + \" 0.66 \")\n",
    "            rgb1 = mpl.colors.to_rgb(\"#FF0000\")[0]\n",
    "            rgb2 = mpl.colors.to_rgb(\"#FF0000\")[1]\n",
    "            rgb3 = mpl.colors.to_rgb(\"#FF0000\")[2]\n",
    "            CrystalMaker.write(str(rgb1) + \" \" + str(rgb2) + \" \" + str(rgb3))\n",
    "            CrystalMaker.write(\"\\n\")\n",
    "    \n",
    "    CrystalMaker.write(\"\\n\")\n",
    "    CrystalMaker.write(\"! Atoms list\\n\")\n",
    "    CrystalMaker.write(\"! Bond Specifications\\n\")\n",
    "    \n",
    "    # Assign bonds between the atoms\n",
    "    for iter, element in enumerate(elements):\n",
    "        if iter < NumMo:\n",
    "            NI_elements = np.delete(np.unique(elements), np.where(np.unique(elements) == element)[0])\n",
    "            for NI_element in NI_elements:\n",
    "                CrystalMaker.write(\"BMAX \" + element + \" \" + str(NI_element) + \"  \" + str(threshold))#    \" O  2.6\")\n",
    "                CrystalMaker.write(\"\\n\")\n",
    "    \n",
    "    CrystalMaker.write(\"\\n\")\n",
    "    CrystalMaker.write(\"! Atoms list\\n\")\n",
    "    CrystalMaker.write(\"ATOM\\n\")\n",
    "    \n",
    "    # Assign coordinates to the atoms\n",
    "    for iter, element in enumerate(elements):\n",
    "        if iter < NumMo:\n",
    "            CrystalMaker.write(element + \" \" + element + str(iter+1) + \" \" + str(xyz[iter][0]) + \" \" + str(xyz[iter][1]) + \" \" + str(xyz[iter][2]) + \"\\n\")\n",
    "        else:\n",
    "            CrystalMaker.write(element + \" \" + element + str(iter+1) + \" \" + str(xyz[iter][0]) + \" \" + str(xyz[iter][1]) + \" \" + str(xyz[iter][2]) + \"\\n\")\n",
    "\n",
    "    CrystalMaker.close()\n",
    "    \n",
    "    return None\n"
   ]
  },
  {
   "cell_type": "code",
   "execution_count": null,
   "metadata": {},
   "outputs": [],
   "source": []
  },
  {
   "cell_type": "code",
   "execution_count": 4,
   "metadata": {},
   "outputs": [],
   "source": [
    "from diffpy.structure import loadStructure"
   ]
  },
  {
   "cell_type": "code",
   "execution_count": 5,
   "metadata": {},
   "outputs": [],
   "source": [
    "stru = loadStructure(\"Structure_Models/beta-Ga2O3_CollCode83645_1x2x2.xyz\")"
   ]
  },
  {
   "cell_type": "code",
   "execution_count": 8,
   "metadata": {},
   "outputs": [
    {
     "data": {
      "text/plain": [
       "chararray(['Ga', 'Ga', 'Ga', 'Ga', 'Ga', 'Ga', 'Ga', 'Ga', 'Ga', 'Ga',\n",
       "           'Ga', 'Ga', 'Ga', 'Ga', 'Ga', 'Ga', 'Ga', 'Ga', 'Ga', 'Ga',\n",
       "           'Ga', 'Ga', 'Ga', 'Ga', 'Ga', 'Ga', 'Ga', 'Ga', 'Ga', 'Ga',\n",
       "           'Ga', 'Ga', 'Ga', 'Ga', 'Ga', 'Ga', 'Ga', 'Ga', 'Ga', 'Ga',\n",
       "           'O', 'O', 'O', 'O', 'O', 'O', 'O', 'O', 'O', 'O', 'O', 'O',\n",
       "           'O', 'O', 'O', 'O', 'O', 'O', 'O', 'O', 'O', 'O', 'O', 'O',\n",
       "           'O', 'O', 'O', 'O', 'O', 'O', 'O', 'O', 'O', 'O', 'O', 'O',\n",
       "           'O', 'O', 'O', 'O', 'O', 'O', 'O', 'O', 'O', 'O', 'O', 'O',\n",
       "           'O', 'O', 'O', 'O', 'O', 'O', 'O', 'O', 'O', 'O', 'O', 'O',\n",
       "           'O', 'O', 'O', 'O', 'O', 'O', 'O', 'O', 'O', 'O', 'O', 'O',\n",
       "           'O', 'O', 'O', 'O', 'O', 'O', 'O', 'O', 'O', 'O', 'O', 'O',\n",
       "           'O', 'O', 'O', 'O', 'O', 'O', 'O', 'O', 'O', 'O', 'O', 'O',\n",
       "           'O', 'O', 'O', 'O', 'O', 'O'], dtype='<U2')"
      ]
     },
     "execution_count": 8,
     "metadata": {},
     "output_type": "execute_result"
    }
   ],
   "source": []
  },
  {
   "cell_type": "code",
   "execution_count": null,
   "metadata": {},
   "outputs": [],
   "source": [
    "Make_CrystalMakerFile(stru.element, stru.xyz, AtomContributionValues, m, saveResults, threshold):"
   ]
  }
 ],
 "metadata": {
  "kernelspec": {
   "display_name": "Diffpy (Python 3.7)",
   "language": "python",
   "name": "diffpy"
  },
  "language_info": {
   "codemirror_mode": {
    "name": "ipython",
    "version": 3
   },
   "file_extension": ".py",
   "mimetype": "text/x-python",
   "name": "python",
   "nbconvert_exporter": "python",
   "pygments_lexer": "ipython3",
   "version": "3.7.13"
  }
 },
 "nbformat": 4,
 "nbformat_minor": 4
}
